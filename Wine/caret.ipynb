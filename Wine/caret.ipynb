{
 "cells": [
  {
   "cell_type": "code",
   "execution_count": 1,
   "metadata": {},
   "outputs": [
    {
     "data": {
      "text/html": [
       "<div>\n",
       "<style scoped>\n",
       "    .dataframe tbody tr th:only-of-type {\n",
       "        vertical-align: middle;\n",
       "    }\n",
       "\n",
       "    .dataframe tbody tr th {\n",
       "        vertical-align: top;\n",
       "    }\n",
       "\n",
       "    .dataframe thead th {\n",
       "        text-align: right;\n",
       "    }\n",
       "</style>\n",
       "<table border=\"1\" class=\"dataframe\">\n",
       "  <thead>\n",
       "    <tr style=\"text-align: right;\">\n",
       "      <th></th>\n",
       "      <th>Alcohol</th>\n",
       "      <th>Malic_Acid</th>\n",
       "      <th>Ash</th>\n",
       "      <th>Ash_Alcanity</th>\n",
       "      <th>Magnesium</th>\n",
       "      <th>Total_Phenols</th>\n",
       "      <th>Flavanoids</th>\n",
       "      <th>Nonflavanoid_Phenols</th>\n",
       "      <th>Proanthocyanins</th>\n",
       "      <th>Color_Intensity</th>\n",
       "      <th>Hue</th>\n",
       "      <th>OD280</th>\n",
       "      <th>Proline</th>\n",
       "    </tr>\n",
       "  </thead>\n",
       "  <tbody>\n",
       "    <tr>\n",
       "      <th>0</th>\n",
       "      <td>14.23</td>\n",
       "      <td>1.71</td>\n",
       "      <td>2.43</td>\n",
       "      <td>15.6</td>\n",
       "      <td>127</td>\n",
       "      <td>2.80</td>\n",
       "      <td>3.06</td>\n",
       "      <td>0.28</td>\n",
       "      <td>2.29</td>\n",
       "      <td>5.64</td>\n",
       "      <td>1.04</td>\n",
       "      <td>3.92</td>\n",
       "      <td>1065</td>\n",
       "    </tr>\n",
       "    <tr>\n",
       "      <th>1</th>\n",
       "      <td>13.20</td>\n",
       "      <td>1.78</td>\n",
       "      <td>2.14</td>\n",
       "      <td>11.2</td>\n",
       "      <td>100</td>\n",
       "      <td>2.65</td>\n",
       "      <td>2.76</td>\n",
       "      <td>0.26</td>\n",
       "      <td>1.28</td>\n",
       "      <td>4.38</td>\n",
       "      <td>1.05</td>\n",
       "      <td>3.40</td>\n",
       "      <td>1050</td>\n",
       "    </tr>\n",
       "    <tr>\n",
       "      <th>2</th>\n",
       "      <td>13.16</td>\n",
       "      <td>2.36</td>\n",
       "      <td>2.67</td>\n",
       "      <td>18.6</td>\n",
       "      <td>101</td>\n",
       "      <td>2.80</td>\n",
       "      <td>3.24</td>\n",
       "      <td>0.30</td>\n",
       "      <td>2.81</td>\n",
       "      <td>5.68</td>\n",
       "      <td>1.03</td>\n",
       "      <td>3.17</td>\n",
       "      <td>1185</td>\n",
       "    </tr>\n",
       "    <tr>\n",
       "      <th>3</th>\n",
       "      <td>14.37</td>\n",
       "      <td>1.95</td>\n",
       "      <td>2.50</td>\n",
       "      <td>16.8</td>\n",
       "      <td>113</td>\n",
       "      <td>3.85</td>\n",
       "      <td>3.49</td>\n",
       "      <td>0.24</td>\n",
       "      <td>2.18</td>\n",
       "      <td>7.80</td>\n",
       "      <td>0.86</td>\n",
       "      <td>3.45</td>\n",
       "      <td>1480</td>\n",
       "    </tr>\n",
       "    <tr>\n",
       "      <th>4</th>\n",
       "      <td>13.24</td>\n",
       "      <td>2.59</td>\n",
       "      <td>2.87</td>\n",
       "      <td>21.0</td>\n",
       "      <td>118</td>\n",
       "      <td>2.80</td>\n",
       "      <td>2.69</td>\n",
       "      <td>0.39</td>\n",
       "      <td>1.82</td>\n",
       "      <td>4.32</td>\n",
       "      <td>1.04</td>\n",
       "      <td>2.93</td>\n",
       "      <td>735</td>\n",
       "    </tr>\n",
       "  </tbody>\n",
       "</table>\n",
       "</div>"
      ],
      "text/plain": [
       "   Alcohol  Malic_Acid   Ash  Ash_Alcanity  Magnesium  Total_Phenols  \\\n",
       "0    14.23        1.71  2.43          15.6        127           2.80   \n",
       "1    13.20        1.78  2.14          11.2        100           2.65   \n",
       "2    13.16        2.36  2.67          18.6        101           2.80   \n",
       "3    14.37        1.95  2.50          16.8        113           3.85   \n",
       "4    13.24        2.59  2.87          21.0        118           2.80   \n",
       "\n",
       "   Flavanoids  Nonflavanoid_Phenols  Proanthocyanins  Color_Intensity   Hue  \\\n",
       "0        3.06                  0.28             2.29             5.64  1.04   \n",
       "1        2.76                  0.26             1.28             4.38  1.05   \n",
       "2        3.24                  0.30             2.81             5.68  1.03   \n",
       "3        3.49                  0.24             2.18             7.80  0.86   \n",
       "4        2.69                  0.39             1.82             4.32  1.04   \n",
       "\n",
       "   OD280  Proline  \n",
       "0   3.92     1065  \n",
       "1   3.40     1050  \n",
       "2   3.17     1185  \n",
       "3   3.45     1480  \n",
       "4   2.93      735  "
      ]
     },
     "execution_count": 1,
     "metadata": {},
     "output_type": "execute_result"
    }
   ],
   "source": [
    "import numpy as np \n",
    "import pandas as pd \n",
    "import seaborn as sns\n",
    "\n",
    "import matplotlib.pyplot as plt\n",
    "\n",
    "#getting Data\n",
    "wine = pd.read_csv(\"/Users/antoniobaio/Desktop/Progetti/ProgettiDS/statsmodel/Classificazione_clustering/Wine/wine-clustering.csv\")\n",
    "wine.head()\n"
   ]
  },
  {
   "cell_type": "code",
   "execution_count": 2,
   "metadata": {},
   "outputs": [
    {
     "data": {
      "text/html": [
       "<style type=\"text/css\">\n",
       "#T_54235_row4_col1, #T_54235_row8_col1 {\n",
       "  background-color: lightgreen;\n",
       "}\n",
       "</style>\n",
       "<table id=\"T_54235\">\n",
       "  <thead>\n",
       "    <tr>\n",
       "      <th class=\"blank level0\" >&nbsp;</th>\n",
       "      <th id=\"T_54235_level0_col0\" class=\"col_heading level0 col0\" >Description</th>\n",
       "      <th id=\"T_54235_level0_col1\" class=\"col_heading level0 col1\" >Value</th>\n",
       "    </tr>\n",
       "  </thead>\n",
       "  <tbody>\n",
       "    <tr>\n",
       "      <th id=\"T_54235_level0_row0\" class=\"row_heading level0 row0\" >0</th>\n",
       "      <td id=\"T_54235_row0_col0\" class=\"data row0 col0\" >Session id</td>\n",
       "      <td id=\"T_54235_row0_col1\" class=\"data row0 col1\" >123</td>\n",
       "    </tr>\n",
       "    <tr>\n",
       "      <th id=\"T_54235_level0_row1\" class=\"row_heading level0 row1\" >1</th>\n",
       "      <td id=\"T_54235_row1_col0\" class=\"data row1 col0\" >Original data shape</td>\n",
       "      <td id=\"T_54235_row1_col1\" class=\"data row1 col1\" >(178, 13)</td>\n",
       "    </tr>\n",
       "    <tr>\n",
       "      <th id=\"T_54235_level0_row2\" class=\"row_heading level0 row2\" >2</th>\n",
       "      <td id=\"T_54235_row2_col0\" class=\"data row2 col0\" >Transformed data shape</td>\n",
       "      <td id=\"T_54235_row2_col1\" class=\"data row2 col1\" >(178, 13)</td>\n",
       "    </tr>\n",
       "    <tr>\n",
       "      <th id=\"T_54235_level0_row3\" class=\"row_heading level0 row3\" >3</th>\n",
       "      <td id=\"T_54235_row3_col0\" class=\"data row3 col0\" >Numeric features</td>\n",
       "      <td id=\"T_54235_row3_col1\" class=\"data row3 col1\" >13</td>\n",
       "    </tr>\n",
       "    <tr>\n",
       "      <th id=\"T_54235_level0_row4\" class=\"row_heading level0 row4\" >4</th>\n",
       "      <td id=\"T_54235_row4_col0\" class=\"data row4 col0\" >Preprocess</td>\n",
       "      <td id=\"T_54235_row4_col1\" class=\"data row4 col1\" >True</td>\n",
       "    </tr>\n",
       "    <tr>\n",
       "      <th id=\"T_54235_level0_row5\" class=\"row_heading level0 row5\" >5</th>\n",
       "      <td id=\"T_54235_row5_col0\" class=\"data row5 col0\" >Imputation type</td>\n",
       "      <td id=\"T_54235_row5_col1\" class=\"data row5 col1\" >simple</td>\n",
       "    </tr>\n",
       "    <tr>\n",
       "      <th id=\"T_54235_level0_row6\" class=\"row_heading level0 row6\" >6</th>\n",
       "      <td id=\"T_54235_row6_col0\" class=\"data row6 col0\" >Numeric imputation</td>\n",
       "      <td id=\"T_54235_row6_col1\" class=\"data row6 col1\" >mean</td>\n",
       "    </tr>\n",
       "    <tr>\n",
       "      <th id=\"T_54235_level0_row7\" class=\"row_heading level0 row7\" >7</th>\n",
       "      <td id=\"T_54235_row7_col0\" class=\"data row7 col0\" >Categorical imputation</td>\n",
       "      <td id=\"T_54235_row7_col1\" class=\"data row7 col1\" >mode</td>\n",
       "    </tr>\n",
       "    <tr>\n",
       "      <th id=\"T_54235_level0_row8\" class=\"row_heading level0 row8\" >8</th>\n",
       "      <td id=\"T_54235_row8_col0\" class=\"data row8 col0\" >Normalize</td>\n",
       "      <td id=\"T_54235_row8_col1\" class=\"data row8 col1\" >True</td>\n",
       "    </tr>\n",
       "    <tr>\n",
       "      <th id=\"T_54235_level0_row9\" class=\"row_heading level0 row9\" >9</th>\n",
       "      <td id=\"T_54235_row9_col0\" class=\"data row9 col0\" >Normalize method</td>\n",
       "      <td id=\"T_54235_row9_col1\" class=\"data row9 col1\" >zscore</td>\n",
       "    </tr>\n",
       "    <tr>\n",
       "      <th id=\"T_54235_level0_row10\" class=\"row_heading level0 row10\" >10</th>\n",
       "      <td id=\"T_54235_row10_col0\" class=\"data row10 col0\" >CPU Jobs</td>\n",
       "      <td id=\"T_54235_row10_col1\" class=\"data row10 col1\" >-1</td>\n",
       "    </tr>\n",
       "    <tr>\n",
       "      <th id=\"T_54235_level0_row11\" class=\"row_heading level0 row11\" >11</th>\n",
       "      <td id=\"T_54235_row11_col0\" class=\"data row11 col0\" >Use GPU</td>\n",
       "      <td id=\"T_54235_row11_col1\" class=\"data row11 col1\" >False</td>\n",
       "    </tr>\n",
       "    <tr>\n",
       "      <th id=\"T_54235_level0_row12\" class=\"row_heading level0 row12\" >12</th>\n",
       "      <td id=\"T_54235_row12_col0\" class=\"data row12 col0\" >Log Experiment</td>\n",
       "      <td id=\"T_54235_row12_col1\" class=\"data row12 col1\" >False</td>\n",
       "    </tr>\n",
       "    <tr>\n",
       "      <th id=\"T_54235_level0_row13\" class=\"row_heading level0 row13\" >13</th>\n",
       "      <td id=\"T_54235_row13_col0\" class=\"data row13 col0\" >Experiment Name</td>\n",
       "      <td id=\"T_54235_row13_col1\" class=\"data row13 col1\" >cluster-default-name</td>\n",
       "    </tr>\n",
       "    <tr>\n",
       "      <th id=\"T_54235_level0_row14\" class=\"row_heading level0 row14\" >14</th>\n",
       "      <td id=\"T_54235_row14_col0\" class=\"data row14 col0\" >USI</td>\n",
       "      <td id=\"T_54235_row14_col1\" class=\"data row14 col1\" >2cf9</td>\n",
       "    </tr>\n",
       "  </tbody>\n",
       "</table>\n"
      ],
      "text/plain": [
       "<pandas.io.formats.style.Styler at 0x133ec1480>"
      ]
     },
     "metadata": {},
     "output_type": "display_data"
    }
   ],
   "source": [
    "from pycaret.clustering import *\n",
    "\n",
    "data = setup(wine, normalize = True, session_id = 123)"
   ]
  },
  {
   "cell_type": "code",
   "execution_count": 4,
   "metadata": {},
   "outputs": [
    {
     "data": {
      "text/html": [
       "<div>\n",
       "<style scoped>\n",
       "    .dataframe tbody tr th:only-of-type {\n",
       "        vertical-align: middle;\n",
       "    }\n",
       "\n",
       "    .dataframe tbody tr th {\n",
       "        vertical-align: top;\n",
       "    }\n",
       "\n",
       "    .dataframe thead th {\n",
       "        text-align: right;\n",
       "    }\n",
       "</style>\n",
       "<table border=\"1\" class=\"dataframe\">\n",
       "  <thead>\n",
       "    <tr style=\"text-align: right;\">\n",
       "      <th></th>\n",
       "      <th>Name</th>\n",
       "      <th>Reference</th>\n",
       "    </tr>\n",
       "    <tr>\n",
       "      <th>ID</th>\n",
       "      <th></th>\n",
       "      <th></th>\n",
       "    </tr>\n",
       "  </thead>\n",
       "  <tbody>\n",
       "    <tr>\n",
       "      <th>kmeans</th>\n",
       "      <td>K-Means Clustering</td>\n",
       "      <td>sklearn.cluster._kmeans.KMeans</td>\n",
       "    </tr>\n",
       "    <tr>\n",
       "      <th>ap</th>\n",
       "      <td>Affinity Propagation</td>\n",
       "      <td>sklearn.cluster._affinity_propagation.Affinity...</td>\n",
       "    </tr>\n",
       "    <tr>\n",
       "      <th>meanshift</th>\n",
       "      <td>Mean Shift Clustering</td>\n",
       "      <td>sklearn.cluster._mean_shift.MeanShift</td>\n",
       "    </tr>\n",
       "    <tr>\n",
       "      <th>sc</th>\n",
       "      <td>Spectral Clustering</td>\n",
       "      <td>sklearn.cluster._spectral.SpectralClustering</td>\n",
       "    </tr>\n",
       "    <tr>\n",
       "      <th>hclust</th>\n",
       "      <td>Agglomerative Clustering</td>\n",
       "      <td>sklearn.cluster._agglomerative.AgglomerativeCl...</td>\n",
       "    </tr>\n",
       "    <tr>\n",
       "      <th>dbscan</th>\n",
       "      <td>Density-Based Spatial Clustering</td>\n",
       "      <td>sklearn.cluster._dbscan.DBSCAN</td>\n",
       "    </tr>\n",
       "    <tr>\n",
       "      <th>optics</th>\n",
       "      <td>OPTICS Clustering</td>\n",
       "      <td>sklearn.cluster._optics.OPTICS</td>\n",
       "    </tr>\n",
       "    <tr>\n",
       "      <th>birch</th>\n",
       "      <td>Birch Clustering</td>\n",
       "      <td>sklearn.cluster._birch.Birch</td>\n",
       "    </tr>\n",
       "  </tbody>\n",
       "</table>\n",
       "</div>"
      ],
      "text/plain": [
       "                                       Name  \\\n",
       "ID                                            \n",
       "kmeans                   K-Means Clustering   \n",
       "ap                     Affinity Propagation   \n",
       "meanshift             Mean Shift Clustering   \n",
       "sc                      Spectral Clustering   \n",
       "hclust             Agglomerative Clustering   \n",
       "dbscan     Density-Based Spatial Clustering   \n",
       "optics                    OPTICS Clustering   \n",
       "birch                      Birch Clustering   \n",
       "\n",
       "                                                   Reference  \n",
       "ID                                                            \n",
       "kmeans                        sklearn.cluster._kmeans.KMeans  \n",
       "ap         sklearn.cluster._affinity_propagation.Affinity...  \n",
       "meanshift              sklearn.cluster._mean_shift.MeanShift  \n",
       "sc              sklearn.cluster._spectral.SpectralClustering  \n",
       "hclust     sklearn.cluster._agglomerative.AgglomerativeCl...  \n",
       "dbscan                        sklearn.cluster._dbscan.DBSCAN  \n",
       "optics                        sklearn.cluster._optics.OPTICS  \n",
       "birch                           sklearn.cluster._birch.Birch  "
      ]
     },
     "execution_count": 4,
     "metadata": {},
     "output_type": "execute_result"
    }
   ],
   "source": [
    "models()\n"
   ]
  },
  {
   "cell_type": "code",
   "execution_count": 10,
   "metadata": {},
   "outputs": [
    {
     "data": {
      "text/html": [],
      "text/plain": [
       "<IPython.core.display.HTML object>"
      ]
     },
     "metadata": {},
     "output_type": "display_data"
    },
    {
     "data": {
      "text/html": [
       "<style type=\"text/css\">\n",
       "</style>\n",
       "<table id=\"T_eaeb4\">\n",
       "  <thead>\n",
       "    <tr>\n",
       "      <th class=\"blank level0\" >&nbsp;</th>\n",
       "      <th id=\"T_eaeb4_level0_col0\" class=\"col_heading level0 col0\" >Silhouette</th>\n",
       "      <th id=\"T_eaeb4_level0_col1\" class=\"col_heading level0 col1\" >Calinski-Harabasz</th>\n",
       "      <th id=\"T_eaeb4_level0_col2\" class=\"col_heading level0 col2\" >Davies-Bouldin</th>\n",
       "      <th id=\"T_eaeb4_level0_col3\" class=\"col_heading level0 col3\" >Homogeneity</th>\n",
       "      <th id=\"T_eaeb4_level0_col4\" class=\"col_heading level0 col4\" >Rand Index</th>\n",
       "      <th id=\"T_eaeb4_level0_col5\" class=\"col_heading level0 col5\" >Completeness</th>\n",
       "    </tr>\n",
       "  </thead>\n",
       "  <tbody>\n",
       "    <tr>\n",
       "      <th id=\"T_eaeb4_level0_row0\" class=\"row_heading level0 row0\" >0</th>\n",
       "      <td id=\"T_eaeb4_row0_col0\" class=\"data row0 col0\" >0.2849</td>\n",
       "      <td id=\"T_eaeb4_row0_col1\" class=\"data row0 col1\" >70.9400</td>\n",
       "      <td id=\"T_eaeb4_row0_col2\" class=\"data row0 col2\" >1.3892</td>\n",
       "      <td id=\"T_eaeb4_row0_col3\" class=\"data row0 col3\" >0</td>\n",
       "      <td id=\"T_eaeb4_row0_col4\" class=\"data row0 col4\" >0</td>\n",
       "      <td id=\"T_eaeb4_row0_col5\" class=\"data row0 col5\" >0</td>\n",
       "    </tr>\n",
       "  </tbody>\n",
       "</table>\n"
      ],
      "text/plain": [
       "<pandas.io.formats.style.Styler at 0x1364125c0>"
      ]
     },
     "metadata": {},
     "output_type": "display_data"
    },
    {
     "data": {
      "text/html": [],
      "text/plain": [
       "<IPython.core.display.HTML object>"
      ]
     },
     "metadata": {},
     "output_type": "display_data"
    }
   ],
   "source": [
    "kmeans = create_model('kmeans', num_clusters = 3)"
   ]
  },
  {
   "cell_type": "code",
   "execution_count": 11,
   "metadata": {},
   "outputs": [
    {
     "data": {
      "text/html": [
       "<div>\n",
       "<style scoped>\n",
       "    .dataframe tbody tr th:only-of-type {\n",
       "        vertical-align: middle;\n",
       "    }\n",
       "\n",
       "    .dataframe tbody tr th {\n",
       "        vertical-align: top;\n",
       "    }\n",
       "\n",
       "    .dataframe thead th {\n",
       "        text-align: right;\n",
       "    }\n",
       "</style>\n",
       "<table border=\"1\" class=\"dataframe\">\n",
       "  <thead>\n",
       "    <tr style=\"text-align: right;\">\n",
       "      <th></th>\n",
       "      <th>Alcohol</th>\n",
       "      <th>Malic_Acid</th>\n",
       "      <th>Ash</th>\n",
       "      <th>Ash_Alcanity</th>\n",
       "      <th>Magnesium</th>\n",
       "      <th>Total_Phenols</th>\n",
       "      <th>Flavanoids</th>\n",
       "      <th>Nonflavanoid_Phenols</th>\n",
       "      <th>Proanthocyanins</th>\n",
       "      <th>Color_Intensity</th>\n",
       "      <th>Hue</th>\n",
       "      <th>OD280</th>\n",
       "      <th>Proline</th>\n",
       "      <th>Cluster</th>\n",
       "    </tr>\n",
       "  </thead>\n",
       "  <tbody>\n",
       "    <tr>\n",
       "      <th>0</th>\n",
       "      <td>14.23</td>\n",
       "      <td>1.71</td>\n",
       "      <td>2.43</td>\n",
       "      <td>15.600000</td>\n",
       "      <td>127</td>\n",
       "      <td>2.80</td>\n",
       "      <td>3.06</td>\n",
       "      <td>0.28</td>\n",
       "      <td>2.29</td>\n",
       "      <td>5.64</td>\n",
       "      <td>1.04</td>\n",
       "      <td>3.92</td>\n",
       "      <td>1065</td>\n",
       "      <td>Cluster 2</td>\n",
       "    </tr>\n",
       "    <tr>\n",
       "      <th>1</th>\n",
       "      <td>13.20</td>\n",
       "      <td>1.78</td>\n",
       "      <td>2.14</td>\n",
       "      <td>11.200000</td>\n",
       "      <td>100</td>\n",
       "      <td>2.65</td>\n",
       "      <td>2.76</td>\n",
       "      <td>0.26</td>\n",
       "      <td>1.28</td>\n",
       "      <td>4.38</td>\n",
       "      <td>1.05</td>\n",
       "      <td>3.40</td>\n",
       "      <td>1050</td>\n",
       "      <td>Cluster 2</td>\n",
       "    </tr>\n",
       "    <tr>\n",
       "      <th>2</th>\n",
       "      <td>13.16</td>\n",
       "      <td>2.36</td>\n",
       "      <td>2.67</td>\n",
       "      <td>18.600000</td>\n",
       "      <td>101</td>\n",
       "      <td>2.80</td>\n",
       "      <td>3.24</td>\n",
       "      <td>0.30</td>\n",
       "      <td>2.81</td>\n",
       "      <td>5.68</td>\n",
       "      <td>1.03</td>\n",
       "      <td>3.17</td>\n",
       "      <td>1185</td>\n",
       "      <td>Cluster 2</td>\n",
       "    </tr>\n",
       "    <tr>\n",
       "      <th>3</th>\n",
       "      <td>14.37</td>\n",
       "      <td>1.95</td>\n",
       "      <td>2.50</td>\n",
       "      <td>16.799999</td>\n",
       "      <td>113</td>\n",
       "      <td>3.85</td>\n",
       "      <td>3.49</td>\n",
       "      <td>0.24</td>\n",
       "      <td>2.18</td>\n",
       "      <td>7.80</td>\n",
       "      <td>0.86</td>\n",
       "      <td>3.45</td>\n",
       "      <td>1480</td>\n",
       "      <td>Cluster 2</td>\n",
       "    </tr>\n",
       "    <tr>\n",
       "      <th>4</th>\n",
       "      <td>13.24</td>\n",
       "      <td>2.59</td>\n",
       "      <td>2.87</td>\n",
       "      <td>21.000000</td>\n",
       "      <td>118</td>\n",
       "      <td>2.80</td>\n",
       "      <td>2.69</td>\n",
       "      <td>0.39</td>\n",
       "      <td>1.82</td>\n",
       "      <td>4.32</td>\n",
       "      <td>1.04</td>\n",
       "      <td>2.93</td>\n",
       "      <td>735</td>\n",
       "      <td>Cluster 2</td>\n",
       "    </tr>\n",
       "    <tr>\n",
       "      <th>...</th>\n",
       "      <td>...</td>\n",
       "      <td>...</td>\n",
       "      <td>...</td>\n",
       "      <td>...</td>\n",
       "      <td>...</td>\n",
       "      <td>...</td>\n",
       "      <td>...</td>\n",
       "      <td>...</td>\n",
       "      <td>...</td>\n",
       "      <td>...</td>\n",
       "      <td>...</td>\n",
       "      <td>...</td>\n",
       "      <td>...</td>\n",
       "      <td>...</td>\n",
       "    </tr>\n",
       "    <tr>\n",
       "      <th>173</th>\n",
       "      <td>13.71</td>\n",
       "      <td>5.65</td>\n",
       "      <td>2.45</td>\n",
       "      <td>20.500000</td>\n",
       "      <td>95</td>\n",
       "      <td>1.68</td>\n",
       "      <td>0.61</td>\n",
       "      <td>0.52</td>\n",
       "      <td>1.06</td>\n",
       "      <td>7.70</td>\n",
       "      <td>0.64</td>\n",
       "      <td>1.74</td>\n",
       "      <td>740</td>\n",
       "      <td>Cluster 0</td>\n",
       "    </tr>\n",
       "    <tr>\n",
       "      <th>174</th>\n",
       "      <td>13.40</td>\n",
       "      <td>3.91</td>\n",
       "      <td>2.48</td>\n",
       "      <td>23.000000</td>\n",
       "      <td>102</td>\n",
       "      <td>1.80</td>\n",
       "      <td>0.75</td>\n",
       "      <td>0.43</td>\n",
       "      <td>1.41</td>\n",
       "      <td>7.30</td>\n",
       "      <td>0.70</td>\n",
       "      <td>1.56</td>\n",
       "      <td>750</td>\n",
       "      <td>Cluster 0</td>\n",
       "    </tr>\n",
       "    <tr>\n",
       "      <th>175</th>\n",
       "      <td>13.27</td>\n",
       "      <td>4.28</td>\n",
       "      <td>2.26</td>\n",
       "      <td>20.000000</td>\n",
       "      <td>120</td>\n",
       "      <td>1.59</td>\n",
       "      <td>0.69</td>\n",
       "      <td>0.43</td>\n",
       "      <td>1.35</td>\n",
       "      <td>10.20</td>\n",
       "      <td>0.59</td>\n",
       "      <td>1.56</td>\n",
       "      <td>835</td>\n",
       "      <td>Cluster 0</td>\n",
       "    </tr>\n",
       "    <tr>\n",
       "      <th>176</th>\n",
       "      <td>13.17</td>\n",
       "      <td>2.59</td>\n",
       "      <td>2.37</td>\n",
       "      <td>20.000000</td>\n",
       "      <td>120</td>\n",
       "      <td>1.65</td>\n",
       "      <td>0.68</td>\n",
       "      <td>0.53</td>\n",
       "      <td>1.46</td>\n",
       "      <td>9.30</td>\n",
       "      <td>0.60</td>\n",
       "      <td>1.62</td>\n",
       "      <td>840</td>\n",
       "      <td>Cluster 0</td>\n",
       "    </tr>\n",
       "    <tr>\n",
       "      <th>177</th>\n",
       "      <td>14.13</td>\n",
       "      <td>4.10</td>\n",
       "      <td>2.74</td>\n",
       "      <td>24.500000</td>\n",
       "      <td>96</td>\n",
       "      <td>2.05</td>\n",
       "      <td>0.76</td>\n",
       "      <td>0.56</td>\n",
       "      <td>1.35</td>\n",
       "      <td>9.20</td>\n",
       "      <td>0.61</td>\n",
       "      <td>1.60</td>\n",
       "      <td>560</td>\n",
       "      <td>Cluster 0</td>\n",
       "    </tr>\n",
       "  </tbody>\n",
       "</table>\n",
       "<p>178 rows × 14 columns</p>\n",
       "</div>"
      ],
      "text/plain": [
       "     Alcohol  Malic_Acid   Ash  Ash_Alcanity  Magnesium  Total_Phenols  \\\n",
       "0      14.23        1.71  2.43     15.600000        127           2.80   \n",
       "1      13.20        1.78  2.14     11.200000        100           2.65   \n",
       "2      13.16        2.36  2.67     18.600000        101           2.80   \n",
       "3      14.37        1.95  2.50     16.799999        113           3.85   \n",
       "4      13.24        2.59  2.87     21.000000        118           2.80   \n",
       "..       ...         ...   ...           ...        ...            ...   \n",
       "173    13.71        5.65  2.45     20.500000         95           1.68   \n",
       "174    13.40        3.91  2.48     23.000000        102           1.80   \n",
       "175    13.27        4.28  2.26     20.000000        120           1.59   \n",
       "176    13.17        2.59  2.37     20.000000        120           1.65   \n",
       "177    14.13        4.10  2.74     24.500000         96           2.05   \n",
       "\n",
       "     Flavanoids  Nonflavanoid_Phenols  Proanthocyanins  Color_Intensity   Hue  \\\n",
       "0          3.06                  0.28             2.29             5.64  1.04   \n",
       "1          2.76                  0.26             1.28             4.38  1.05   \n",
       "2          3.24                  0.30             2.81             5.68  1.03   \n",
       "3          3.49                  0.24             2.18             7.80  0.86   \n",
       "4          2.69                  0.39             1.82             4.32  1.04   \n",
       "..          ...                   ...              ...              ...   ...   \n",
       "173        0.61                  0.52             1.06             7.70  0.64   \n",
       "174        0.75                  0.43             1.41             7.30  0.70   \n",
       "175        0.69                  0.43             1.35            10.20  0.59   \n",
       "176        0.68                  0.53             1.46             9.30  0.60   \n",
       "177        0.76                  0.56             1.35             9.20  0.61   \n",
       "\n",
       "     OD280  Proline    Cluster  \n",
       "0     3.92     1065  Cluster 2  \n",
       "1     3.40     1050  Cluster 2  \n",
       "2     3.17     1185  Cluster 2  \n",
       "3     3.45     1480  Cluster 2  \n",
       "4     2.93      735  Cluster 2  \n",
       "..     ...      ...        ...  \n",
       "173   1.74      740  Cluster 0  \n",
       "174   1.56      750  Cluster 0  \n",
       "175   1.56      835  Cluster 0  \n",
       "176   1.62      840  Cluster 0  \n",
       "177   1.60      560  Cluster 0  \n",
       "\n",
       "[178 rows x 14 columns]"
      ]
     },
     "execution_count": 11,
     "metadata": {},
     "output_type": "execute_result"
    }
   ],
   "source": [
    "kmeans_cluster = assign_model(kmeans)\n",
    "kmeans_cluster"
   ]
  },
  {
   "cell_type": "code",
   "execution_count": 12,
   "metadata": {},
   "outputs": [
    {
     "data": {
      "text/html": [],
      "text/plain": [
       "<IPython.core.display.HTML object>"
      ]
     },
     "metadata": {},
     "output_type": "display_data"
    },
    {
     "data": {
      "image/png": "[encoded data removed]",
      "text/plain": [
       "<Figure size 800x550 with 1 Axes>"
      ]
     },
     "metadata": {},
     "output_type": "display_data"
    }
   ],
   "source": [
    "plot_model(kmeans, plot = 'elbow')"
   ]
  },
  {
   "cell_type": "code",
   "execution_count": 14,
   "metadata": {},
   "outputs": [
    {
     "data": {
      "text/html": [],
      "text/plain": [
       "<IPython.core.display.HTML object>"
      ]
     },
     "metadata": {},
     "output_type": "display_data"
    },
    {
     "data": {
      "application/vnd.plotly.v1+json": {
       "config": {
        "plotlyServerURL": "https://plot.ly"
       },
       "data": [
        {
         "customdata": [
          [
           14.13
          ],
          [
           13.08
          ],
          [
           13.32
          ],
          [
           12.87
          ],
          [
           13.88
          ],
          [
           13.16
          ],
          [
           12.25
          ],
          [
           13.62
          ],
          [
           13.52
          ],
          [
           13.36
          ],
          [
           12.93
          ],
          [
           13.5
          ],
          [
           12.84
          ],
          [
           12.53
          ],
          [
           12.25
          ],
          [
           12.6
          ],
          [
           12.51
          ],
          [
           12.7
          ],
          [
           12.88
          ],
          [
           12.86
          ],
          [
           12.77
          ],
          [
           12.64
          ],
          [
           13.05
          ],
          [
           13.49
          ],
          [
           12.79
          ],
          [
           12.81
          ],
          [
           13.23
          ],
          [
           13.27
          ],
          [
           13.4
          ],
          [
           13.11
          ],
          [
           14.16
          ],
          [
           12.77
          ],
          [
           12.2
          ],
          [
           13.4
          ],
          [
           13.58
          ],
          [
           12.82
          ],
          [
           13.45
          ],
          [
           13.73
          ],
          [
           13.71
          ],
          [
           12.96
          ],
          [
           12.58
          ],
          [
           13.78
          ],
          [
           13.17
          ],
          [
           13.84
          ],
          [
           12.45
          ],
          [
           13.17
          ],
          [
           13.48
          ],
          [
           12.85
          ],
          [
           13.69
          ],
          [
           12.36
          ],
          [
           14.34
          ]
         ],
         "hovertemplate": "Cluster=Cluster 0<br>PCA1=%{x}<br>PCA2=%{y}<br>Feature=%{customdata[0]}<extra></extra>",
         "legendgroup": "Cluster 0",
         "marker": {
          "color": "#636efa",
          "opacity": 0.5,
          "symbol": "circle"
         },
         "mode": "markers",
         "name": "Cluster 0",
         "orientation": "v",
         "showlegend": true,
         "textposition": "top center",
         "type": "scatter",
         "x": [
          -3.2087580716832917,
          -2.8996593654696112,
          -2.8070637513404164,
          -3.5826413446428433,
          -4.280638734689454,
          -2.625621044018387,
          -2.2098655863610226,
          -2.3751946681970018,
          -2.9856334853776274,
          -2.2865613584060767,
          -2.778812879427196,
          -2.3207369849672546,
          -2.3744715334700977,
          -3.936463446754946,
          -3.9157536668968493,
          -3.063841437286165,
          -2.369869517036911,
          -2.1468111771527876,
          -2.3845008407823163,
          -1.3271017407322387,
          -2.4330126652365394,
          -1.8362495849040403,
          -2.538977108606044,
          -3.094276063681743,
          -2.5498309312199643,
          -2.9369399932755074,
          -2.7601447844623883,
          -2.6778394456612187,
          -2.6019560344361845,
          -1.812541256320251,
          -2.4655557893108973,
          -3.6779186511425386,
          -3.211617189642994,
          -2.3809278148936297,
          -2.1814127818070985,
          -2.929084696754228,
          -2.406110529236404,
          -3.530032384000661,
          -3.370524155815543,
          -2.5974970820464085,
          -2.7371504864197207,
          -2.949299430599108,
          -3.60486886736107,
          -2.88982599138369,
          -3.3921560732424068,
          -2.3870169341491105,
          -1.6099123742108774,
          -2.847673818070217,
          -2.240156925265367,
          -3.143131027205567,
          -1.048181761042957
         ],
         "xaxis": "x",
         "y": [
          -2.768919573599912,
          -2.0410568117525414,
          -1.5705337535457375,
          -1.2727027669708348,
          -0.6496711343517505,
          -0.563160804520212,
          -1.1600526709758943,
          -0.48233352856667466,
          -0.489218262493836,
          -0.37250752283397426,
          -0.2868051432151668,
          -2.3563660825023924,
          -0.2919803463074724,
          -0.6596872919646062,
          -0.1545824737811335,
          -0.35341310919112745,
          0.45963468163142907,
          -0.3682547847201009,
          -0.37458283695260536,
          -0.1703889890571205,
          1.2571406280749164,
          0.8299839602628509,
          0.08744322455509693,
          -0.34884264084824784,
          -2.045283187245528,
          -0.2638621308078207,
          -2.1389321733362654,
          -2.7608994939302076,
          -1.7572292592497225,
          -1.5276457016975655,
          -2.193798175276748,
          -0.8477480595114631,
          0.2512492853267772,
          -2.5886670826537146,
          -2.0775372896867723,
          -1.2744467309576482,
          -2.5923560447958756,
          -0.8825265759978242,
          -2.2162892383686583,
          -0.6979655517575986,
          -0.4098861532837731,
          -1.5553087678221584,
          -1.8023842380756834,
          -1.9252188949222064,
          -1.3118763914764764,
          -2.29734662751806,
          -2.406637985999244,
          -0.5560441495432629,
          -1.1754650605689665,
          -0.7381609860817806,
          -3.5150897943988224
         ],
         "yaxis": "y"
        },
        {
         "customdata": [
          [
           12.25
          ],
          [
           12.42
          ],
          [
           12.51
          ],
          [
           11.82
          ],
          [
           12.34
          ],
          [
           12.6
          ],
          [
           12.08
          ],
          [
           12.08
          ],
          [
           12.37
          ],
          [
           12.29
          ],
          [
           11.81
          ],
          [
           11.62
          ],
          [
           12.29
          ],
          [
           12.69
          ],
          [
           12
          ],
          [
           12.08
          ],
          [
           12.29
          ],
          [
           12.72
          ],
          [
           11.61
          ],
          [
           11.46
          ],
          [
           12.04
          ],
          [
           12.37
          ],
          [
           11.79
          ],
          [
           12.43
          ],
          [
           12.07
          ],
          [
           11.87
          ],
          [
           13.05
          ],
          [
           12.22
          ],
          [
           12.42
          ],
          [
           12
          ],
          [
           12.42
          ],
          [
           11.82
          ],
          [
           11.03
          ],
          [
           12.08
          ],
          [
           11.76
          ],
          [
           12.52
          ],
          [
           11.45
          ],
          [
           11.41
          ],
          [
           11.64
          ],
          [
           12.16
          ],
          [
           11.65
          ],
          [
           12.37
          ],
          [
           12.33
          ],
          [
           13.67
          ],
          [
           12.37
          ],
          [
           12.17
          ],
          [
           12.37
          ],
          [
           13.11
          ],
          [
           13.34
          ],
          [
           12.21
          ],
          [
           12.29
          ],
          [
           13.86
          ],
          [
           13.49
          ],
          [
           12.37
          ],
          [
           11.96
          ],
          [
           12.67
          ],
          [
           12.08
          ],
          [
           12.72
          ],
          [
           12
          ],
          [
           12.7
          ],
          [
           11.84
          ],
          [
           11.84
          ],
          [
           13.03
          ],
          [
           11.66
          ],
          [
           12.33
          ]
         ],
         "hovertemplate": "Cluster=Cluster 1<br>PCA1=%{x}<br>PCA2=%{y}<br>Feature=%{customdata[0]}<extra></extra>",
         "legendgroup": "Cluster 1",
         "marker": {
          "color": "#EF553B",
          "opacity": 0.5,
          "symbol": "circle"
         },
         "mode": "markers",
         "name": "Cluster 1",
         "orientation": "v",
         "showlegend": true,
         "textposition": "top center",
         "type": "scatter",
         "x": [
          -0.3662673990444128,
          -1.7724991930632985,
          0.3923543627772437,
          -0.6597950506875304,
          -0.16117378240842292,
          -0.5495316906972092,
          0.7977197975221625,
          -0.5557227475892199,
          2.2519093256951943,
          1.0310497133171228,
          -0.5439525234508774,
          0.9574552744175617,
          0.7466658928432981,
          -1.9325557512407379,
          -1.564482605952622,
          -1.3492852368069121,
          1.4102157990479645,
          -1.6206724870924365,
          1.5782750108814518,
          1.420569170999464,
          -1.7928335569555898,
          -0.47956497361099965,
          -1.5971583623285432,
          0.03848720761704907,
          -0.09680984715871442,
          0.978474091833823,
          -0.4623351175074454,
          0.08253572286484391,
          -1.17708690299031,
          -0.5510896165132102,
          -0.10722774348041993,
          -0.2528890015228577,
          0.48207439194653057,
          -0.49418593613149003,
          -1.303145027691489,
          -0.27870275750866014,
          0.7396220026823846,
          -0.4570718486952967,
          -1.1151109251525848,
          -0.8068321528696011,
          -0.5580426854366224,
          -0.9285821033529299,
          -1.54248021197029,
          0.030606820489338625,
          2.0502615050519153,
          -0.6096807793454894,
          0.9002278535768589,
          2.2485071715700515,
          -0.8128051360942788,
          1.9756204451778372,
          -1.5722161443367257,
          1.6576818064911303,
          -0.7253724530095363,
          0.18338385628703882,
          1.832567736415216,
          0.7879047146543088,
          -0.49487686376994683,
          1.0345780926030306,
          0.7620637688735602,
          0.3761504213229184,
          0.8353201461250123,
          -1.4573770926626632,
          0.37001446274638017,
          -0.8679928821385593,
          1.2629306908047233
         ],
         "xaxis": "x",
         "y": [
          2.169353406907187,
          1.7172884086545965,
          2.0987314698219186,
          2.679961380733725,
          1.164483222503422,
          2.293128350954132,
          2.376948807199041,
          2.6575402042362337,
          1.432741541812368,
          2.5655693784716145,
          0.36892623272437386,
          2.223528510891402,
          2.3129316367553616,
          1.5594956711270171,
          1.852214384564219,
          2.118001579172108,
          2.166191685015095,
          1.355583259043133,
          1.4620343779407796,
          1.4182064752636354,
          1.1502879651053899,
          1.938840772254834,
          1.2081436234836067,
          1.266761947092334,
          2.109998087179182,
          1.4455704768488813,
          0.6182879016809097,
          2.3062343718700964,
          0.6639667696792642,
          2.222161498856187,
          1.928921855539827,
          2.8214924742726097,
          3.8717839819689486,
          1.9390451095365173,
          0.7631720685372034,
          1.9305676817722799,
          1.4089566874314567,
          2.269415723996257,
          1.8022469382339712,
          2.2338305759410853,
          2.372985843468431,
          3.0734861456740123,
          1.3814435658326032,
          1.2627862247924988,
          1.9250326761647651,
          1.9080588267010725,
          0.7639116812299583,
          1.8845926585271688,
          0.2205139643470659,
          1.4032831086870485,
          0.8849831024887059,
          0.9567123814815158,
          1.0636455618085618,
          2.4271463246416665,
          1.2878782719611883,
          2.0266265231542535,
          2.3812435183265452,
          1.4507095051509735,
          3.375053782704674,
          1.0270435369699222,
          1.4736705502086094,
          1.3833515222600068,
          2.1539072002351567,
          2.4441013562484937,
          0.7708493642003268
         ],
         "yaxis": "y"
        },
        {
         "customdata": [
          [
           13.83
          ],
          [
           14.19
          ],
          [
           13.64
          ],
          [
           14.06
          ],
          [
           12.93
          ],
          [
           12.85
          ],
          [
           13.5
          ],
          [
           13.05
          ],
          [
           13.39
          ],
          [
           13.3
          ],
          [
           13.87
          ],
          [
           13.71
          ],
          [
           14.3
          ],
          [
           14.37
          ],
          [
           14.38
          ],
          [
           14.75
          ],
          [
           13.75
          ],
          [
           14.12
          ],
          [
           14.1
          ],
          [
           13.86
          ],
          [
           14.83
          ],
          [
           14.06
          ],
          [
           14.39
          ],
          [
           14.2
          ],
          [
           13.24
          ],
          [
           14.02
          ],
          [
           13.16
          ],
          [
           13.2
          ],
          [
           13.63
          ],
          [
           13.73
          ],
          [
           13.24
          ],
          [
           13.68
          ],
          [
           12.47
          ],
          [
           12.99
          ],
          [
           13.72
          ],
          [
           13.29
          ],
          [
           14.22
          ],
          [
           13.56
          ],
          [
           11.56
          ],
          [
           13.74
          ],
          [
           13.77
          ],
          [
           13.82
          ],
          [
           13.83
          ],
          [
           13.05
          ],
          [
           13.94
          ],
          [
           13.58
          ],
          [
           14.1
          ],
          [
           14.38
          ],
          [
           14.21
          ],
          [
           13.05
          ],
          [
           13.88
          ],
          [
           13.41
          ],
          [
           13.56
          ],
          [
           14.22
          ],
          [
           13.07
          ],
          [
           13.05
          ],
          [
           13.28
          ],
          [
           13.48
          ],
          [
           13.51
          ],
          [
           13.76
          ],
          [
           13.9
          ],
          [
           14.23
          ]
         ],
         "hovertemplate": "Cluster=Cluster 2<br>PCA1=%{x}<br>PCA2=%{y}<br>Feature=%{customdata[0]}<extra></extra>",
         "legendgroup": "Cluster 2",
         "marker": {
          "color": "#00cc96",
          "opacity": 0.5,
          "symbol": "circle"
         },
         "mode": "markers",
         "name": "Cluster 2",
         "orientation": "v",
         "showlegend": true,
         "textposition": "top center",
         "type": "scatter",
         "x": [
          1.8989711898754933,
          3.5419850206043604,
          2.0845222131329044,
          3.124402653850695,
          1.086570151961807,
          1.6449885509812445,
          1.761575763350098,
          0.9900792597184707,
          1.775277673837712,
          1.2354240121494564,
          2.188406422283434,
          2.535224048411834,
          2.1719554579663,
          3.7570656767622554,
          4.312784042231237,
          3.458156758512529,
          2.1134622759990087,
          1.7547529456624198,
          3.4797368356061926,
          2.7536281497691597,
          2.5108743036647403,
          2.059436709547631,
          2.449089610898785,
          3.050253834409665,
          1.0089085145678631,
          2.256109037589441,
          2.516740038121097,
          2.2094649221811666,
          2.305188162983729,
          2.5002201361483025,
          0.4622091833870975,
          1.628579181761846,
          2.5438652377423283,
          2.562227120088713,
          3.1393801506073524,
          2.173740966786319,
          2.7415180063518454,
          2.4693296000686837,
          1.3363218633191742,
          2.1469878625144814,
          2.2247914558734365,
          3.5056043665878547,
          2.858959731295855,
          3.214917620928531,
          2.707491248281561,
          2.677411100085984,
          2.0098511684571863,
          2.7266010151997553,
          1.136166152472375,
          2.1013518768359734,
          3.070806980909624,
          0.668482097736074,
          2.5880954575200352,
          2.5298010599663443,
          1.5021944851675433,
          1.1222075535526514,
          1.3848621835981625,
          1.9038261915516177,
          1.4103884813155663,
          1.9026909544271438,
          2.8213392626954774,
          3.3167506098637793
         ],
         "xaxis": "x",
         "y": [
          -1.6313686841284623,
          -2.5183433209554686,
          -1.06113814124229,
          -0.7868972640104414,
          -0.24174389340839253,
          0.5162787833198536,
          0.3171490875880547,
          -0.9406674681459815,
          -0.6861751864790626,
          0.08980676680285135,
          -0.6895694443937495,
          0.09184077445306489,
          -2.3273053157858734,
          -2.7563718067777114,
          -2.095975662883813,
          -1.1306299638171533,
          -0.6757063732971682,
          -0.6119771312195278,
          -1.3023333754111186,
          -0.789437380813159,
          -0.9180708759846014,
          -1.6089633206947913,
          -1.1748504098934394,
          -2.122401092670303,
          -0.869830603433508,
          -0.19146224855620486,
          -1.0311512290705094,
          0.33339283259065106,
          -1.6625518455472559,
          -1.2408334523774303,
          -0.33074201476497445,
          -0.052704498068539815,
          -0.16927427520606517,
          -0.26019830867691157,
          -1.7315793094842775,
          -1.2121998245779486,
          -1.43654891188549,
          -1.3290085759215682,
          -0.2533371735577655,
          -1.0167513126748438,
          -1.8751683425867154,
          -1.6127337772239645,
          -0.7452785988668695,
          -0.16699198253025557,
          -1.751967027807632,
          -1.4718733737226894,
          -1.2470296669490202,
          -1.1913347414085165,
          -1.77710741486888,
          0.07100891669385175,
          -1.1559188645862029,
          -0.16996071984954186,
          -0.7796164976897237,
          -1.8030021321509098,
          0.7694322438079366,
          -0.11410980042675133,
          -0.658639519135786,
          -0.17671075862863192,
          -0.697934490277267,
          -1.6330606293515402,
          -0.6462581493212536,
          -1.4434624211316247
         ],
         "yaxis": "y"
        }
       ],
       "layout": {
        "height": 600,
        "legend": {
         "title": {
          "text": "Cluster"
         },
         "tracegroupgap": 0
        },
        "margin": {
         "t": 60
        },
        "plot_bgcolor": "rgb(240,240,240)",
        "template": {
         "data": {
          "bar": [
           {
            "error_x": {
             "color": "#2a3f5f"
            },
            "error_y": {
             "color": "#2a3f5f"
            },
            "marker": {
             "line": {
              "color": "#E5ECF6",
              "width": 0.5
             },
             "pattern": {
              "fillmode": "overlay",
              "size": 10,
              "solidity": 0.2
             }
            },
            "type": "bar"
           }
          ],
          "barpolar": [
           {
            "marker": {
             "line": {
              "color": "#E5ECF6",
              "width": 0.5
             },
             "pattern": {
              "fillmode": "overlay",
              "size": 10,
              "solidity": 0.2
             }
            },
            "type": "barpolar"
           }
          ],
          "carpet": [
           {
            "aaxis": {
             "endlinecolor": "#2a3f5f",
             "gridcolor": "white",
             "linecolor": "white",
             "minorgridcolor": "white",
             "startlinecolor": "#2a3f5f"
            },
            "baxis": {
             "endlinecolor": "#2a3f5f",
             "gridcolor": "white",
             "linecolor": "white",
             "minorgridcolor": "white",
             "startlinecolor": "#2a3f5f"
            },
            "type": "carpet"
           }
          ],
          "choropleth": [
           {
            "colorbar": {
             "outlinewidth": 0,
             "ticks": ""
            },
            "type": "choropleth"
           }
          ],
          "contour": [
           {
            "colorbar": {
             "outlinewidth": 0,
             "ticks": ""
            },
            "colorscale": [
             [
              0,
              "#0d0887"
             ],
             [
              0.1111111111111111,
              "#46039f"
             ],
             [
              0.2222222222222222,
              "#7201a8"
             ],
             [
              0.3333333333333333,
              "#9c179e"
             ],
             [
              0.4444444444444444,
              "#bd3786"
             ],
             [
              0.5555555555555556,
              "#d8576b"
             ],
             [
              0.6666666666666666,
              "#ed7953"
             ],
             [
              0.7777777777777778,
              "#fb9f3a"
             ],
             [
              0.8888888888888888,
              "#fdca26"
             ],
             [
              1,
              "#f0f921"
             ]
            ],
            "type": "contour"
           }
          ],
          "contourcarpet": [
           {
            "colorbar": {
             "outlinewidth": 0,
             "ticks": ""
            },
            "type": "contourcarpet"
           }
          ],
          "heatmap": [
           {
            "colorbar": {
             "outlinewidth": 0,
             "ticks": ""
            },
            "colorscale": [
             [
              0,
              "#0d0887"
             ],
             [
              0.1111111111111111,
              "#46039f"
             ],
             [
              0.2222222222222222,
              "#7201a8"
             ],
             [
              0.3333333333333333,
              "#9c179e"
             ],
             [
              0.4444444444444444,
              "#bd3786"
             ],
             [
              0.5555555555555556,
              "#d8576b"
             ],
             [
              0.6666666666666666,
              "#ed7953"
             ],
             [
              0.7777777777777778,
              "#fb9f3a"
             ],
             [
              0.8888888888888888,
              "#fdca26"
             ],
             [
              1,
              "#f0f921"
             ]
            ],
            "type": "heatmap"
           }
          ],
          "heatmapgl": [
           {
            "colorbar": {
             "outlinewidth": 0,
             "ticks": ""
            },
            "colorscale": [
             [
              0,
              "#0d0887"
             ],
             [
              0.1111111111111111,
              "#46039f"
             ],
             [
              0.2222222222222222,
              "#7201a8"
             ],
             [
              0.3333333333333333,
              "#9c179e"
             ],
             [
              0.4444444444444444,
              "#bd3786"
             ],
             [
              0.5555555555555556,
              "#d8576b"
             ],
             [
              0.6666666666666666,
              "#ed7953"
             ],
             [
              0.7777777777777778,
              "#fb9f3a"
             ],
             [
              0.8888888888888888,
              "#fdca26"
             ],
             [
              1,
              "#f0f921"
             ]
            ],
            "type": "heatmapgl"
           }
          ],
          "histogram": [
           {
            "marker": {
             "pattern": {
              "fillmode": "overlay",
              "size": 10,
              "solidity": 0.2
             }
            },
            "type": "histogram"
           }
          ],
          "histogram2d": [
           {
            "colorbar": {
             "outlinewidth": 0,
             "ticks": ""
            },
            "colorscale": [
             [
              0,
              "#0d0887"
             ],
             [
              0.1111111111111111,
              "#46039f"
             ],
             [
              0.2222222222222222,
              "#7201a8"
             ],
             [
              0.3333333333333333,
              "#9c179e"
             ],
             [
              0.4444444444444444,
              "#bd3786"
             ],
             [
              0.5555555555555556,
              "#d8576b"
             ],
             [
              0.6666666666666666,
              "#ed7953"
             ],
             [
              0.7777777777777778,
              "#fb9f3a"
             ],
             [
              0.8888888888888888,
              "#fdca26"
             ],
             [
              1,
              "#f0f921"
             ]
            ],
            "type": "histogram2d"
           }
          ],
          "histogram2dcontour": [
           {
            "colorbar": {
             "outlinewidth": 0,
             "ticks": ""
            },
            "colorscale": [
             [
              0,
              "#0d0887"
             ],
             [
              0.1111111111111111,
              "#46039f"
             ],
             [
              0.2222222222222222,
              "#7201a8"
             ],
             [
              0.3333333333333333,
              "#9c179e"
             ],
             [
              0.4444444444444444,
              "#bd3786"
             ],
             [
              0.5555555555555556,
              "#d8576b"
             ],
             [
              0.6666666666666666,
              "#ed7953"
             ],
             [
              0.7777777777777778,
              "#fb9f3a"
             ],
             [
              0.8888888888888888,
              "#fdca26"
             ],
             [
              1,
              "#f0f921"
             ]
            ],
            "type": "histogram2dcontour"
           }
          ],
          "mesh3d": [
           {
            "colorbar": {
             "outlinewidth": 0,
             "ticks": ""
            },
            "type": "mesh3d"
           }
          ],
          "parcoords": [
           {
            "line": {
             "colorbar": {
              "outlinewidth": 0,
              "ticks": ""
             }
            },
            "type": "parcoords"
           }
          ],
          "pie": [
           {
            "automargin": true,
            "type": "pie"
           }
          ],
          "scatter": [
           {
            "fillpattern": {
             "fillmode": "overlay",
             "size": 10,
             "solidity": 0.2
            },
            "type": "scatter"
           }
          ],
          "scatter3d": [
           {
            "line": {
             "colorbar": {
              "outlinewidth": 0,
              "ticks": ""
             }
            },
            "marker": {
             "colorbar": {
              "outlinewidth": 0,
              "ticks": ""
             }
            },
            "type": "scatter3d"
           }
          ],
          "scattercarpet": [
           {
            "marker": {
             "colorbar": {
              "outlinewidth": 0,
              "ticks": ""
             }
            },
            "type": "scattercarpet"
           }
          ],
          "scattergeo": [
           {
            "marker": {
             "colorbar": {
              "outlinewidth": 0,
              "ticks": ""
             }
            },
            "type": "scattergeo"
           }
          ],
          "scattergl": [
           {
            "marker": {
             "colorbar": {
              "outlinewidth": 0,
              "ticks": ""
             }
            },
            "type": "scattergl"
           }
          ],
          "scattermapbox": [
           {
            "marker": {
             "colorbar": {
              "outlinewidth": 0,
              "ticks": ""
             }
            },
            "type": "scattermapbox"
           }
          ],
          "scatterpolar": [
           {
            "marker": {
             "colorbar": {
              "outlinewidth": 0,
              "ticks": ""
             }
            },
            "type": "scatterpolar"
           }
          ],
          "scatterpolargl": [
           {
            "marker": {
             "colorbar": {
              "outlinewidth": 0,
              "ticks": ""
             }
            },
            "type": "scatterpolargl"
           }
          ],
          "scatterternary": [
           {
            "marker": {
             "colorbar": {
              "outlinewidth": 0,
              "ticks": ""
             }
            },
            "type": "scatterternary"
           }
          ],
          "surface": [
           {
            "colorbar": {
             "outlinewidth": 0,
             "ticks": ""
            },
            "colorscale": [
             [
              0,
              "#0d0887"
             ],
             [
              0.1111111111111111,
              "#46039f"
             ],
             [
              0.2222222222222222,
              "#7201a8"
             ],
             [
              0.3333333333333333,
              "#9c179e"
             ],
             [
              0.4444444444444444,
              "#bd3786"
             ],
             [
              0.5555555555555556,
              "#d8576b"
             ],
             [
              0.6666666666666666,
              "#ed7953"
             ],
             [
              0.7777777777777778,
              "#fb9f3a"
             ],
             [
              0.8888888888888888,
              "#fdca26"
             ],
             [
              1,
              "#f0f921"
             ]
            ],
            "type": "surface"
           }
          ],
          "table": [
           {
            "cells": {
             "fill": {
              "color": "#EBF0F8"
             },
             "line": {
              "color": "white"
             }
            },
            "header": {
             "fill": {
              "color": "#C8D4E3"
             },
             "line": {
              "color": "white"
             }
            },
            "type": "table"
           }
          ]
         },
         "layout": {
          "annotationdefaults": {
           "arrowcolor": "#2a3f5f",
           "arrowhead": 0,
           "arrowwidth": 1
          },
          "autotypenumbers": "strict",
          "coloraxis": {
           "colorbar": {
            "outlinewidth": 0,
            "ticks": ""
           }
          },
          "colorscale": {
           "diverging": [
            [
             0,
             "#8e0152"
            ],
            [
             0.1,
             "#c51b7d"
            ],
            [
             0.2,
             "#de77ae"
            ],
            [
             0.3,
             "#f1b6da"
            ],
            [
             0.4,
             "#fde0ef"
            ],
            [
             0.5,
             "#f7f7f7"
            ],
            [
             0.6,
             "#e6f5d0"
            ],
            [
             0.7,
             "#b8e186"
            ],
            [
             0.8,
             "#7fbc41"
            ],
            [
             0.9,
             "#4d9221"
            ],
            [
             1,
             "#276419"
            ]
           ],
           "sequential": [
            [
             0,
             "#0d0887"
            ],
            [
             0.1111111111111111,
             "#46039f"
            ],
            [
             0.2222222222222222,
             "#7201a8"
            ],
            [
             0.3333333333333333,
             "#9c179e"
            ],
            [
             0.4444444444444444,
             "#bd3786"
            ],
            [
             0.5555555555555556,
             "#d8576b"
            ],
            [
             0.6666666666666666,
             "#ed7953"
            ],
            [
             0.7777777777777778,
             "#fb9f3a"
            ],
            [
             0.8888888888888888,
             "#fdca26"
            ],
            [
             1,
             "#f0f921"
            ]
           ],
           "sequentialminus": [
            [
             0,
             "#0d0887"
            ],
            [
             0.1111111111111111,
             "#46039f"
            ],
            [
             0.2222222222222222,
             "#7201a8"
            ],
            [
             0.3333333333333333,
             "#9c179e"
            ],
            [
             0.4444444444444444,
             "#bd3786"
            ],
            [
             0.5555555555555556,
             "#d8576b"
            ],
            [
             0.6666666666666666,
             "#ed7953"
            ],
            [
             0.7777777777777778,
             "#fb9f3a"
            ],
            [
             0.8888888888888888,
             "#fdca26"
            ],
            [
             1,
             "#f0f921"
            ]
           ]
          },
          "colorway": [
           "#636efa",
           "#EF553B",
           "#00cc96",
           "#ab63fa",
           "#FFA15A",
           "#19d3f3",
           "#FF6692",
           "#B6E880",
           "#FF97FF",
           "#FECB52"
          ],
          "font": {
           "color": "#2a3f5f"
          },
          "geo": {
           "bgcolor": "white",
           "lakecolor": "white",
           "landcolor": "#E5ECF6",
           "showlakes": true,
           "showland": true,
           "subunitcolor": "white"
          },
          "hoverlabel": {
           "align": "left"
          },
          "hovermode": "closest",
          "mapbox": {
           "style": "light"
          },
          "paper_bgcolor": "white",
          "plot_bgcolor": "#E5ECF6",
          "polar": {
           "angularaxis": {
            "gridcolor": "white",
            "linecolor": "white",
            "ticks": ""
           },
           "bgcolor": "#E5ECF6",
           "radialaxis": {
            "gridcolor": "white",
            "linecolor": "white",
            "ticks": ""
           }
          },
          "scene": {
           "xaxis": {
            "backgroundcolor": "#E5ECF6",
            "gridcolor": "white",
            "gridwidth": 2,
            "linecolor": "white",
            "showbackground": true,
            "ticks": "",
            "zerolinecolor": "white"
           },
           "yaxis": {
            "backgroundcolor": "#E5ECF6",
            "gridcolor": "white",
            "gridwidth": 2,
            "linecolor": "white",
            "showbackground": true,
            "ticks": "",
            "zerolinecolor": "white"
           },
           "zaxis": {
            "backgroundcolor": "#E5ECF6",
            "gridcolor": "white",
            "gridwidth": 2,
            "linecolor": "white",
            "showbackground": true,
            "ticks": "",
            "zerolinecolor": "white"
           }
          },
          "shapedefaults": {
           "line": {
            "color": "#2a3f5f"
           }
          },
          "ternary": {
           "aaxis": {
            "gridcolor": "white",
            "linecolor": "white",
            "ticks": ""
           },
           "baxis": {
            "gridcolor": "white",
            "linecolor": "white",
            "ticks": ""
           },
           "bgcolor": "#E5ECF6",
           "caxis": {
            "gridcolor": "white",
            "linecolor": "white",
            "ticks": ""
           }
          },
          "title": {
           "x": 0.05
          },
          "xaxis": {
           "automargin": true,
           "gridcolor": "white",
           "linecolor": "white",
           "ticks": "",
           "title": {
            "standoff": 15
           },
           "zerolinecolor": "white",
           "zerolinewidth": 2
          },
          "yaxis": {
           "automargin": true,
           "gridcolor": "white",
           "linecolor": "white",
           "ticks": "",
           "title": {
            "standoff": 15
           },
           "zerolinecolor": "white",
           "zerolinewidth": 2
          }
         }
        },
        "title": {
         "text": "2D Cluster PCA Plot"
        },
        "xaxis": {
         "anchor": "y",
         "domain": [
          0,
          1
         ],
         "title": {
          "text": "PCA1"
         }
        },
        "yaxis": {
         "anchor": "x",
         "domain": [
          0,
          1
         ],
         "title": {
          "text": "PCA2"
         }
        }
       }
      }
     },
     "metadata": {},
     "output_type": "display_data"
    },
    {
     "data": {
      "text/html": [],
      "text/plain": [
       "<IPython.core.display.HTML object>"
      ]
     },
     "metadata": {},
     "output_type": "display_data"
    },
    {
     "data": {
      "application/vnd.plotly.v1+json": {
       "config": {
        "plotlyServerURL": "https://plot.ly"
       },
       "data": [
        {
         "customdata": [
          [
           14.13
          ],
          [
           13.08
          ],
          [
           13.32
          ],
          [
           12.87
          ],
          [
           13.88
          ],
          [
           13.16
          ],
          [
           12.25
          ],
          [
           13.62
          ],
          [
           13.52
          ],
          [
           13.36
          ],
          [
           12.93
          ],
          [
           13.5
          ],
          [
           12.84
          ],
          [
           12.53
          ],
          [
           12.25
          ],
          [
           12.6
          ],
          [
           12.51
          ],
          [
           12.7
          ],
          [
           12.88
          ],
          [
           12.86
          ],
          [
           12.77
          ],
          [
           12.64
          ],
          [
           13.05
          ],
          [
           13.49
          ],
          [
           12.79
          ],
          [
           12.81
          ],
          [
           13.23
          ],
          [
           13.27
          ],
          [
           13.4
          ],
          [
           13.11
          ],
          [
           14.16
          ],
          [
           12.77
          ],
          [
           12.2
          ],
          [
           13.4
          ],
          [
           13.58
          ],
          [
           12.82
          ],
          [
           13.45
          ],
          [
           13.73
          ],
          [
           13.71
          ],
          [
           12.96
          ],
          [
           12.58
          ],
          [
           13.78
          ],
          [
           13.17
          ],
          [
           13.84
          ],
          [
           12.45
          ],
          [
           13.17
          ],
          [
           13.48
          ],
          [
           12.85
          ],
          [
           13.69
          ],
          [
           12.36
          ],
          [
           14.34
          ]
         ],
         "hovertemplate": "Cluster=Cluster 0<br>0=%{x}<br>1=%{y}<br>2=%{z}<br>Feature=%{customdata[0]}<extra></extra>",
         "legendgroup": "Cluster 0",
         "marker": {
          "color": "#636efa",
          "opacity": 0.7,
          "symbol": "circle"
         },
         "mode": "markers",
         "name": "Cluster 0",
         "scene": "scene",
         "showlegend": true,
         "type": "scatter3d",
         "x": [
          -8.172531,
          -6.4649644,
          -6.835437,
          -6.8185334,
          -6.2817016,
          -5.415363,
          -5.4054937,
          -6.0794225,
          -6.2622538,
          -5.0746336,
          -6.0529113,
          -6.764253,
          -6.645331,
          -7.478821,
          -6.9957356,
          -4.617223,
          -3.9718652,
          -4.874006,
          -4.8842173,
          -3.9911284,
          -4.162323,
          -2.8506193,
          -5.433042,
          -5.5690637,
          -6.537279,
          -5.2214975,
          -7.5183277,
          -6.6829123,
          -7.080342,
          -6.872873,
          -7.181887,
          -5.7596803,
          -4.746516,
          -7.643808,
          -7.517211,
          -6.1098084,
          -7.5837545,
          -6.323661,
          -7.42295,
          -5.2025332,
          -4.631476,
          -6.5382104,
          -7.6783,
          -7.4602942,
          -7.8454947,
          -6.9907165,
          -8.994246,
          -6.5065556,
          -6.288404,
          -6.5223746,
          -9.103118
         ],
         "y": [
          -2.959605,
          -2.7463808,
          -3.5347507,
          -3.6274672,
          -3.996975,
          -2.623853,
          -3.0482306,
          -2.7190974,
          -1.0712605,
          -1.9562356,
          -1.2194476,
          -1.7618283,
          -1.0589337,
          -2.1891265,
          -2.427801,
          -4.094505,
          -4.205793,
          -1.6284848,
          -1.7389429,
          -1.3148917,
          -2.8634737,
          -3.91562,
          -2.3619857,
          -3.0415807,
          -2.2831838,
          -1.5863541,
          -4.6562877,
          -3.5236971,
          -2.7049544,
          -1.3128008,
          -3.870733,
          -4.4312286,
          -2.5164998,
          -1.7071701,
          -2.4074066,
          -4.0428004,
          -2.7734094,
          -3.2247984,
          -3.4430587,
          -2.4212358,
          -4.3721156,
          -3.7756472,
          -3.477248,
          -3.9746265,
          -1.5810931,
          -3.9578574,
          -4.089749,
          -1.4219549,
          -1.69901,
          -4.085159,
          -4.085513
         ],
         "z": [
          -3.1993873,
          -4.9479856,
          -3.296378,
          -2.2777226,
          -0.98307836,
          -3.0189383,
          -4.8000865,
          -1.278361,
          -1.9681969,
          -2.8077216,
          -2.0039225,
          -5.2304134,
          -1.930085,
          -1.0605974,
          -0.84686184,
          -2.770777,
          -2.7237394,
          -4.620948,
          -4.3559666,
          -4.520273,
          -1.711581,
          -2.677357,
          -0.7426519,
          -1.7841011,
          -5.419352,
          -4.3923535,
          -3.9007242,
          -5.0884995,
          -3.4003146,
          -5.210193,
          -3.8317664,
          -3.5062375,
          -3.2284393,
          -4.6455913,
          -4.200833,
          -3.6981413,
          -4.396111,
          -1.6900641,
          -1.8662772,
          -3.32995,
          -3.3459632,
          -3.7682319,
          -2.0275702,
          -3.0518768,
          -2.3568912,
          -4.9462013,
          -4.349696,
          -1.9326193,
          -2.3928955,
          -2.4982288,
          -4.390427
         ]
        },
        {
         "customdata": [
          [
           12.25
          ],
          [
           12.42
          ],
          [
           12.51
          ],
          [
           11.82
          ],
          [
           12.34
          ],
          [
           12.6
          ],
          [
           12.08
          ],
          [
           12.08
          ],
          [
           12.37
          ],
          [
           12.29
          ],
          [
           11.81
          ],
          [
           11.62
          ],
          [
           12.29
          ],
          [
           12.69
          ],
          [
           12
          ],
          [
           12.08
          ],
          [
           12.29
          ],
          [
           12.72
          ],
          [
           11.61
          ],
          [
           11.46
          ],
          [
           12.04
          ],
          [
           12.37
          ],
          [
           11.79
          ],
          [
           12.43
          ],
          [
           12.07
          ],
          [
           11.87
          ],
          [
           13.05
          ],
          [
           12.22
          ],
          [
           12.42
          ],
          [
           12
          ],
          [
           12.42
          ],
          [
           11.82
          ],
          [
           11.03
          ],
          [
           12.08
          ],
          [
           11.76
          ],
          [
           12.52
          ],
          [
           11.45
          ],
          [
           11.41
          ],
          [
           11.64
          ],
          [
           12.16
          ],
          [
           11.65
          ],
          [
           12.37
          ],
          [
           12.33
          ],
          [
           13.67
          ],
          [
           12.37
          ],
          [
           12.17
          ],
          [
           12.37
          ],
          [
           13.11
          ],
          [
           13.34
          ],
          [
           12.21
          ],
          [
           12.29
          ],
          [
           13.86
          ],
          [
           13.49
          ],
          [
           12.37
          ],
          [
           11.96
          ],
          [
           12.67
          ],
          [
           12.08
          ],
          [
           12.72
          ],
          [
           12
          ],
          [
           12.7
          ],
          [
           11.84
          ],
          [
           11.84
          ],
          [
           13.03
          ],
          [
           11.66
          ],
          [
           12.33
          ]
         ],
         "hovertemplate": "Cluster=Cluster 1<br>0=%{x}<br>1=%{y}<br>2=%{z}<br>Feature=%{customdata[0]}<extra></extra>",
         "legendgroup": "Cluster 1",
         "marker": {
          "color": "#EF553B",
          "opacity": 0.7,
          "symbol": "circle"
         },
         "mode": "markers",
         "name": "Cluster 1",
         "scene": "scene",
         "showlegend": true,
         "type": "scatter3d",
         "x": [
          -0.718306,
          -3.5313215,
          0.13328953,
          -0.7648936,
          -0.30999428,
          -0.29806456,
          0.71697164,
          -1.520457,
          2.8131957,
          1.3299656,
          -3.3837337,
          1.6732216,
          0.85071135,
          -3.0750504,
          -2.649016,
          -2.5539942,
          0.49466902,
          -2.915358,
          1.1443722,
          0.40200505,
          -2.6953535,
          -1.2275565,
          -2.2674983,
          -0.8325807,
          -0.5237057,
          0.49418244,
          0.7318895,
          -0.61064094,
          -0.7161925,
          -1.5003558,
          -0.37401757,
          -0.451716,
          -0.65151364,
          -1.4622015,
          -3.1833334,
          -0.1030241,
          0.40104893,
          -2.0144029,
          -2.3773053,
          -1.8836604,
          -1.8789062,
          0.067197114,
          -2.34276,
          0.69585484,
          2.6145217,
          -2.2363238,
          1.8852636,
          2.6856177,
          -2.294688,
          6.0196075,
          -3.1158707,
          2.3381448,
          0.29363576,
          0.51115197,
          2.4895587,
          0.6211282,
          -1.8012084,
          1.1689678,
          0.82775795,
          -0.12648678,
          1.1782652,
          -2.1593244,
          0.88343984,
          -0.629763,
          6.024058
         ],
         "y": [
          -1.5022465,
          -0.97775966,
          -1.651017,
          -2.2716544,
          -0.5405888,
          -2.1408124,
          -1.6191868,
          -0.15972956,
          -1.4692839,
          -1.2849026,
          -0.8647971,
          -1.1851901,
          -0.51629615,
          -1.1963775,
          -0.5117767,
          -0.8847573,
          1.077508,
          -1.1791953,
          -0.9154347,
          0.15154429,
          -1.8415037,
          -0.71363586,
          1.3312824,
          -1.0755843,
          -1.1070759,
          0.43817103,
          1.2746503,
          -1.9622059,
          1.5338521,
          -2.2017977,
          -0.570885,
          -1.7273321,
          1.0928988,
          -0.21803848,
          0.9098511,
          -1.3987436,
          -0.6824336,
          0.30608097,
          -0.30421543,
          0.2539754,
          1.0683824,
          -2.7979445,
          -3.911166,
          -2.952979,
          -1.426288,
          0.58277446,
          1.3993044,
          -1.7484916,
          -3.9775605,
          -1.695773,
          -1.4540209,
          1.090101,
          -2.8120217,
          -2.1189399,
          -1.1380564,
          -0.7030165,
          0.6240916,
          -0.69366133,
          -0.9732459,
          1.3680959,
          -1.0625627,
          -1.7174588,
          -2.3714972,
          -1.9398643,
          -1.682697
         ],
         "z": [
          -0.61898947,
          0.09963004,
          -0.36247915,
          -0.1299368,
          1.5946217,
          -1.3524482,
          -1.8518016,
          -0.097978,
          0.13290322,
          -0.9385542,
          -4.693841,
          0.67902106,
          0.45128575,
          -0.8841691,
          -0.6356442,
          -0.96173733,
          0.38614288,
          -0.63006675,
          2.5030007,
          3.8495426,
          1.0307268,
          0.98941475,
          0.92609584,
          1.836337,
          1.1975726,
          3.4701233,
          3.317388,
          0.41080958,
          1.6952075,
          0.40147495,
          0.05938455,
          -0.2765036,
          -1.2607392,
          1.0198773,
          -1.5606737,
          0.99928993,
          2.182547,
          0.24112476,
          -0.090207,
          -1.0460597,
          -0.43769845,
          -2.843191,
          -2.6789968,
          -1.7729224,
          0.16164008,
          -1.778583,
          -0.60565746,
          -1.0035608,
          -2.7119188,
          2.1432526,
          -2.9182441,
          1.16207,
          0.71709037,
          -0.76156,
          1.2349766,
          -0.7485435,
          -0.5088256,
          -0.34544107,
          -1.194861,
          1.5457793,
          2.5093324,
          -2.5811644,
          -1.8198241,
          -2.2604113,
          2.1435091
         ]
        },
        {
         "customdata": [
          [
           13.83
          ],
          [
           14.19
          ],
          [
           13.64
          ],
          [
           14.06
          ],
          [
           12.93
          ],
          [
           12.85
          ],
          [
           13.5
          ],
          [
           13.05
          ],
          [
           13.39
          ],
          [
           13.3
          ],
          [
           13.87
          ],
          [
           13.71
          ],
          [
           14.3
          ],
          [
           14.37
          ],
          [
           14.38
          ],
          [
           14.75
          ],
          [
           13.75
          ],
          [
           14.12
          ],
          [
           14.1
          ],
          [
           13.86
          ],
          [
           14.83
          ],
          [
           14.06
          ],
          [
           14.39
          ],
          [
           14.2
          ],
          [
           13.24
          ],
          [
           14.02
          ],
          [
           13.16
          ],
          [
           13.2
          ],
          [
           13.63
          ],
          [
           13.73
          ],
          [
           13.24
          ],
          [
           13.68
          ],
          [
           12.47
          ],
          [
           12.99
          ],
          [
           13.72
          ],
          [
           13.29
          ],
          [
           14.22
          ],
          [
           13.56
          ],
          [
           11.56
          ],
          [
           13.74
          ],
          [
           13.77
          ],
          [
           13.82
          ],
          [
           13.83
          ],
          [
           13.05
          ],
          [
           13.94
          ],
          [
           13.58
          ],
          [
           14.1
          ],
          [
           14.38
          ],
          [
           14.21
          ],
          [
           13.05
          ],
          [
           13.88
          ],
          [
           13.41
          ],
          [
           13.56
          ],
          [
           14.22
          ],
          [
           13.07
          ],
          [
           13.05
          ],
          [
           13.28
          ],
          [
           13.48
          ],
          [
           13.51
          ],
          [
           13.76
          ],
          [
           13.9
          ],
          [
           14.23
          ]
         ],
         "hovertemplate": "Cluster=Cluster 2<br>0=%{x}<br>1=%{y}<br>2=%{z}<br>Feature=%{customdata[0]}<extra></extra>",
         "legendgroup": "Cluster 2",
         "marker": {
          "color": "#00cc96",
          "opacity": 0.7,
          "symbol": "circle"
         },
         "mode": "markers",
         "name": "Cluster 2",
         "scene": "scene",
         "showlegend": true,
         "type": "scatter3d",
         "x": [
          4.0125504,
          6.644761,
          4.7244573,
          6.4434347,
          2.7438588,
          3.521995,
          3.2875743,
          1.5609673,
          4.313555,
          4.259655,
          2.9322708,
          4.604424,
          4.37275,
          6.8377857,
          7.770463,
          7.842995,
          5.0626616,
          4.8250165,
          6.4389873,
          6.124089,
          6.4065905,
          3.9203217,
          5.605615,
          6.308239,
          2.0829036,
          5.409248,
          5.0925574,
          4.9510336,
          4.45031,
          4.62414,
          2.7985866,
          3.7663407,
          6.039618,
          3.7436528,
          6.2084455,
          4.4656005,
          6.303323,
          5.479618,
          0.8525521,
          5.5798755,
          4.370929,
          6.8376846,
          5.4631557,
          7.624181,
          6.4983788,
          6.0394945,
          5.320744,
          5.394739,
          3.713351,
          5.9346156,
          5.6161222,
          2.8211777,
          6.565444,
          5.0921144,
          4.0996604,
          3.3119586,
          2.9723074,
          3.8712254,
          3.3427715,
          3.393423,
          6.3793344,
          6.561126
         ],
         "y": [
          4.6736283,
          4.7760024,
          2.2588468,
          1.9040221,
          2.0406256,
          1.5123485,
          1.670334,
          3.8971012,
          2.704101,
          0.96458197,
          3.5672145,
          1.4968327,
          4.8641725,
          4.2361784,
          3.2728927,
          2.8871245,
          2.2346697,
          1.7453929,
          3.7038608,
          2.1982102,
          1.7289456,
          3.916767,
          1.9680537,
          4.257066,
          3.6819232,
          1.5108689,
          3.9790928,
          0.3457633,
          4.3122716,
          4.514727,
          2.1147435,
          2.3501494,
          -1.6422656,
          0.04413765,
          3.6575725,
          3.5331638,
          2.3069665,
          4.370723,
          3.915337,
          1.8728484,
          4.4016333,
          3.683963,
          2.8338609,
          1.6991997,
          3.7322867,
          3.996559,
          3.579821,
          3.1569006,
          2.7851326,
          1.1210406,
          3.020831,
          2.1375723,
          1.6818222,
          2.2468789,
          0.611641,
          2.1936214,
          3.2647698,
          1.756543,
          2.8974926,
          4.998187,
          1.8923378,
          2.1581805
         ],
         "z": [
          0.26886463,
          0.5422484,
          2.9099228,
          2.6450572,
          2.387097,
          0.50677437,
          1.0081226,
          0.9977756,
          0.3974483,
          -0.8505647,
          0.7596239,
          0.7485726,
          0.20374613,
          1.65533,
          -0.10724609,
          -0.4955199,
          -0.6520532,
          -0.87756777,
          -0.4746192,
          0.8744778,
          -0.21280783,
          1.6873219,
          -0.24001057,
          0.9087371,
          0.90374994,
          0.3379968,
          -1.3262624,
          -0.2815478,
          0.84322566,
          -0.8924407,
          3.1958153,
          -0.88675827,
          2.1671128,
          3.0708346,
          1.2949067,
          0.43557492,
          2.016679,
          -0.6618491,
          1.1116589,
          1.8712217,
          0.83786386,
          1.6429199,
          -0.99191386,
          0.3134792,
          0.34299868,
          -0.07660118,
          -0.53223675,
          2.8025346,
          3.1230328,
          1.5114595,
          1.5933566,
          3.362638,
          2.102671,
          3.4090092,
          -0.79682064,
          -0.29219016,
          0.062564686,
          1.0976499,
          0.21192844,
          0.9800784,
          1.1043792,
          2.7849572
         ]
        }
       ],
       "layout": {
        "height": 800,
        "legend": {
         "title": {
          "text": "Cluster"
         },
         "tracegroupgap": 0
        },
        "scene": {
         "domain": {
          "x": [
           0,
           1
          ],
          "y": [
           0,
           1
          ]
         },
         "xaxis": {
          "title": {
           "text": "0"
          }
         },
         "yaxis": {
          "title": {
           "text": "1"
          }
         },
         "zaxis": {
          "title": {
           "text": "2"
          }
         }
        },
        "template": {
         "data": {
          "bar": [
           {
            "error_x": {
             "color": "#2a3f5f"
            },
            "error_y": {
             "color": "#2a3f5f"
            },
            "marker": {
             "line": {
              "color": "#E5ECF6",
              "width": 0.5
             },
             "pattern": {
              "fillmode": "overlay",
              "size": 10,
              "solidity": 0.2
             }
            },
            "type": "bar"
           }
          ],
          "barpolar": [
           {
            "marker": {
             "line": {
              "color": "#E5ECF6",
              "width": 0.5
             },
             "pattern": {
              "fillmode": "overlay",
              "size": 10,
              "solidity": 0.2
             }
            },
            "type": "barpolar"
           }
          ],
          "carpet": [
           {
            "aaxis": {
             "endlinecolor": "#2a3f5f",
             "gridcolor": "white",
             "linecolor": "white",
             "minorgridcolor": "white",
             "startlinecolor": "#2a3f5f"
            },
            "baxis": {
             "endlinecolor": "#2a3f5f",
             "gridcolor": "white",
             "linecolor": "white",
             "minorgridcolor": "white",
             "startlinecolor": "#2a3f5f"
            },
            "type": "carpet"
           }
          ],
          "choropleth": [
           {
            "colorbar": {
             "outlinewidth": 0,
             "ticks": ""
            },
            "type": "choropleth"
           }
          ],
          "contour": [
           {
            "colorbar": {
             "outlinewidth": 0,
             "ticks": ""
            },
            "colorscale": [
             [
              0,
              "#0d0887"
             ],
             [
              0.1111111111111111,
              "#46039f"
             ],
             [
              0.2222222222222222,
              "#7201a8"
             ],
             [
              0.3333333333333333,
              "#9c179e"
             ],
             [
              0.4444444444444444,
              "#bd3786"
             ],
             [
              0.5555555555555556,
              "#d8576b"
             ],
             [
              0.6666666666666666,
              "#ed7953"
             ],
             [
              0.7777777777777778,
              "#fb9f3a"
             ],
             [
              0.8888888888888888,
              "#fdca26"
             ],
             [
              1,
              "#f0f921"
             ]
            ],
            "type": "contour"
           }
          ],
          "contourcarpet": [
           {
            "colorbar": {
             "outlinewidth": 0,
             "ticks": ""
            },
            "type": "contourcarpet"
           }
          ],
          "heatmap": [
           {
            "colorbar": {
             "outlinewidth": 0,
             "ticks": ""
            },
            "colorscale": [
             [
              0,
              "#0d0887"
             ],
             [
              0.1111111111111111,
              "#46039f"
             ],
             [
              0.2222222222222222,
              "#7201a8"
             ],
             [
              0.3333333333333333,
              "#9c179e"
             ],
             [
              0.4444444444444444,
              "#bd3786"
             ],
             [
              0.5555555555555556,
              "#d8576b"
             ],
             [
              0.6666666666666666,
              "#ed7953"
             ],
             [
              0.7777777777777778,
              "#fb9f3a"
             ],
             [
              0.8888888888888888,
              "#fdca26"
             ],
             [
              1,
              "#f0f921"
             ]
            ],
            "type": "heatmap"
           }
          ],
          "heatmapgl": [
           {
            "colorbar": {
             "outlinewidth": 0,
             "ticks": ""
            },
            "colorscale": [
             [
              0,
              "#0d0887"
             ],
             [
              0.1111111111111111,
              "#46039f"
             ],
             [
              0.2222222222222222,
              "#7201a8"
             ],
             [
              0.3333333333333333,
              "#9c179e"
             ],
             [
              0.4444444444444444,
              "#bd3786"
             ],
             [
              0.5555555555555556,
              "#d8576b"
             ],
             [
              0.6666666666666666,
              "#ed7953"
             ],
             [
              0.7777777777777778,
              "#fb9f3a"
             ],
             [
              0.8888888888888888,
              "#fdca26"
             ],
             [
              1,
              "#f0f921"
             ]
            ],
            "type": "heatmapgl"
           }
          ],
          "histogram": [
           {
            "marker": {
             "pattern": {
              "fillmode": "overlay",
              "size": 10,
              "solidity": 0.2
             }
            },
            "type": "histogram"
           }
          ],
          "histogram2d": [
           {
            "colorbar": {
             "outlinewidth": 0,
             "ticks": ""
            },
            "colorscale": [
             [
              0,
              "#0d0887"
             ],
             [
              0.1111111111111111,
              "#46039f"
             ],
             [
              0.2222222222222222,
              "#7201a8"
             ],
             [
              0.3333333333333333,
              "#9c179e"
             ],
             [
              0.4444444444444444,
              "#bd3786"
             ],
             [
              0.5555555555555556,
              "#d8576b"
             ],
             [
              0.6666666666666666,
              "#ed7953"
             ],
             [
              0.7777777777777778,
              "#fb9f3a"
             ],
             [
              0.8888888888888888,
              "#fdca26"
             ],
             [
              1,
              "#f0f921"
             ]
            ],
            "type": "histogram2d"
           }
          ],
          "histogram2dcontour": [
           {
            "colorbar": {
             "outlinewidth": 0,
             "ticks": ""
            },
            "colorscale": [
             [
              0,
              "#0d0887"
             ],
             [
              0.1111111111111111,
              "#46039f"
             ],
             [
              0.2222222222222222,
              "#7201a8"
             ],
             [
              0.3333333333333333,
              "#9c179e"
             ],
             [
              0.4444444444444444,
              "#bd3786"
             ],
             [
              0.5555555555555556,
              "#d8576b"
             ],
             [
              0.6666666666666666,
              "#ed7953"
             ],
             [
              0.7777777777777778,
              "#fb9f3a"
             ],
             [
              0.8888888888888888,
              "#fdca26"
             ],
             [
              1,
              "#f0f921"
             ]
            ],
            "type": "histogram2dcontour"
           }
          ],
          "mesh3d": [
           {
            "colorbar": {
             "outlinewidth": 0,
             "ticks": ""
            },
            "type": "mesh3d"
           }
          ],
          "parcoords": [
           {
            "line": {
             "colorbar": {
              "outlinewidth": 0,
              "ticks": ""
             }
            },
            "type": "parcoords"
           }
          ],
          "pie": [
           {
            "automargin": true,
            "type": "pie"
           }
          ],
          "scatter": [
           {
            "fillpattern": {
             "fillmode": "overlay",
             "size": 10,
             "solidity": 0.2
            },
            "type": "scatter"
           }
          ],
          "scatter3d": [
           {
            "line": {
             "colorbar": {
              "outlinewidth": 0,
              "ticks": ""
             }
            },
            "marker": {
             "colorbar": {
              "outlinewidth": 0,
              "ticks": ""
             }
            },
            "type": "scatter3d"
           }
          ],
          "scattercarpet": [
           {
            "marker": {
             "colorbar": {
              "outlinewidth": 0,
              "ticks": ""
             }
            },
            "type": "scattercarpet"
           }
          ],
          "scattergeo": [
           {
            "marker": {
             "colorbar": {
              "outlinewidth": 0,
              "ticks": ""
             }
            },
            "type": "scattergeo"
           }
          ],
          "scattergl": [
           {
            "marker": {
             "colorbar": {
              "outlinewidth": 0,
              "ticks": ""
             }
            },
            "type": "scattergl"
           }
          ],
          "scattermapbox": [
           {
            "marker": {
             "colorbar": {
              "outlinewidth": 0,
              "ticks": ""
             }
            },
            "type": "scattermapbox"
           }
          ],
          "scatterpolar": [
           {
            "marker": {
             "colorbar": {
              "outlinewidth": 0,
              "ticks": ""
             }
            },
            "type": "scatterpolar"
           }
          ],
          "scatterpolargl": [
           {
            "marker": {
             "colorbar": {
              "outlinewidth": 0,
              "ticks": ""
             }
            },
            "type": "scatterpolargl"
           }
          ],
          "scatterternary": [
           {
            "marker": {
             "colorbar": {
              "outlinewidth": 0,
              "ticks": ""
             }
            },
            "type": "scatterternary"
           }
          ],
          "surface": [
           {
            "colorbar": {
             "outlinewidth": 0,
             "ticks": ""
            },
            "colorscale": [
             [
              0,
              "#0d0887"
             ],
             [
              0.1111111111111111,
              "#46039f"
             ],
             [
              0.2222222222222222,
              "#7201a8"
             ],
             [
              0.3333333333333333,
              "#9c179e"
             ],
             [
              0.4444444444444444,
              "#bd3786"
             ],
             [
              0.5555555555555556,
              "#d8576b"
             ],
             [
              0.6666666666666666,
              "#ed7953"
             ],
             [
              0.7777777777777778,
              "#fb9f3a"
             ],
             [
              0.8888888888888888,
              "#fdca26"
             ],
             [
              1,
              "#f0f921"
             ]
            ],
            "type": "surface"
           }
          ],
          "table": [
           {
            "cells": {
             "fill": {
              "color": "#EBF0F8"
             },
             "line": {
              "color": "white"
             }
            },
            "header": {
             "fill": {
              "color": "#C8D4E3"
             },
             "line": {
              "color": "white"
             }
            },
            "type": "table"
           }
          ]
         },
         "layout": {
          "annotationdefaults": {
           "arrowcolor": "#2a3f5f",
           "arrowhead": 0,
           "arrowwidth": 1
          },
          "autotypenumbers": "strict",
          "coloraxis": {
           "colorbar": {
            "outlinewidth": 0,
            "ticks": ""
           }
          },
          "colorscale": {
           "diverging": [
            [
             0,
             "#8e0152"
            ],
            [
             0.1,
             "#c51b7d"
            ],
            [
             0.2,
             "#de77ae"
            ],
            [
             0.3,
             "#f1b6da"
            ],
            [
             0.4,
             "#fde0ef"
            ],
            [
             0.5,
             "#f7f7f7"
            ],
            [
             0.6,
             "#e6f5d0"
            ],
            [
             0.7,
             "#b8e186"
            ],
            [
             0.8,
             "#7fbc41"
            ],
            [
             0.9,
             "#4d9221"
            ],
            [
             1,
             "#276419"
            ]
           ],
           "sequential": [
            [
             0,
             "#0d0887"
            ],
            [
             0.1111111111111111,
             "#46039f"
            ],
            [
             0.2222222222222222,
             "#7201a8"
            ],
            [
             0.3333333333333333,
             "#9c179e"
            ],
            [
             0.4444444444444444,
             "#bd3786"
            ],
            [
             0.5555555555555556,
             "#d8576b"
            ],
            [
             0.6666666666666666,
             "#ed7953"
            ],
            [
             0.7777777777777778,
             "#fb9f3a"
            ],
            [
             0.8888888888888888,
             "#fdca26"
            ],
            [
             1,
             "#f0f921"
            ]
           ],
           "sequentialminus": [
            [
             0,
             "#0d0887"
            ],
            [
             0.1111111111111111,
             "#46039f"
            ],
            [
             0.2222222222222222,
             "#7201a8"
            ],
            [
             0.3333333333333333,
             "#9c179e"
            ],
            [
             0.4444444444444444,
             "#bd3786"
            ],
            [
             0.5555555555555556,
             "#d8576b"
            ],
            [
             0.6666666666666666,
             "#ed7953"
            ],
            [
             0.7777777777777778,
             "#fb9f3a"
            ],
            [
             0.8888888888888888,
             "#fdca26"
            ],
            [
             1,
             "#f0f921"
            ]
           ]
          },
          "colorway": [
           "#636efa",
           "#EF553B",
           "#00cc96",
           "#ab63fa",
           "#FFA15A",
           "#19d3f3",
           "#FF6692",
           "#B6E880",
           "#FF97FF",
           "#FECB52"
          ],
          "font": {
           "color": "#2a3f5f"
          },
          "geo": {
           "bgcolor": "white",
           "lakecolor": "white",
           "landcolor": "#E5ECF6",
           "showlakes": true,
           "showland": true,
           "subunitcolor": "white"
          },
          "hoverlabel": {
           "align": "left"
          },
          "hovermode": "closest",
          "mapbox": {
           "style": "light"
          },
          "paper_bgcolor": "white",
          "plot_bgcolor": "#E5ECF6",
          "polar": {
           "angularaxis": {
            "gridcolor": "white",
            "linecolor": "white",
            "ticks": ""
           },
           "bgcolor": "#E5ECF6",
           "radialaxis": {
            "gridcolor": "white",
            "linecolor": "white",
            "ticks": ""
           }
          },
          "scene": {
           "xaxis": {
            "backgroundcolor": "#E5ECF6",
            "gridcolor": "white",
            "gridwidth": 2,
            "linecolor": "white",
            "showbackground": true,
            "ticks": "",
            "zerolinecolor": "white"
           },
           "yaxis": {
            "backgroundcolor": "#E5ECF6",
            "gridcolor": "white",
            "gridwidth": 2,
            "linecolor": "white",
            "showbackground": true,
            "ticks": "",
            "zerolinecolor": "white"
           },
           "zaxis": {
            "backgroundcolor": "#E5ECF6",
            "gridcolor": "white",
            "gridwidth": 2,
            "linecolor": "white",
            "showbackground": true,
            "ticks": "",
            "zerolinecolor": "white"
           }
          },
          "shapedefaults": {
           "line": {
            "color": "#2a3f5f"
           }
          },
          "ternary": {
           "aaxis": {
            "gridcolor": "white",
            "linecolor": "white",
            "ticks": ""
           },
           "baxis": {
            "gridcolor": "white",
            "linecolor": "white",
            "ticks": ""
           },
           "bgcolor": "#E5ECF6",
           "caxis": {
            "gridcolor": "white",
            "linecolor": "white",
            "ticks": ""
           }
          },
          "title": {
           "x": 0.05
          },
          "xaxis": {
           "automargin": true,
           "gridcolor": "white",
           "linecolor": "white",
           "ticks": "",
           "title": {
            "standoff": 15
           },
           "zerolinecolor": "white",
           "zerolinewidth": 2
          },
          "yaxis": {
           "automargin": true,
           "gridcolor": "white",
           "linecolor": "white",
           "ticks": "",
           "title": {
            "standoff": 15
           },
           "zerolinecolor": "white",
           "zerolinewidth": 2
          }
         }
        },
        "title": {
         "text": "3d TSNE Plot for Clusters"
        },
        "width": 900
       }
      }
     },
     "metadata": {},
     "output_type": "display_data"
    }
   ],
   "source": [
    "plot_model(kmeans, plot = 'cluster')\n",
    "plot_model(kmeans, plot = 'tsne')"
   ]
  },
  {
   "cell_type": "code",
   "execution_count": 15,
   "metadata": {},
   "outputs": [
    {
     "data": {
      "text/html": [],
      "text/plain": [
       "<IPython.core.display.HTML object>"
      ]
     },
     "metadata": {},
     "output_type": "display_data"
    },
    {
     "data": {
      "image/png": "[encoded data removed]",
      "text/plain": [
       "<Figure size 800x550 with 1 Axes>"
      ]
     },
     "metadata": {},
     "output_type": "display_data"
    }
   ],
   "source": [
    "plot_model(kmeans, plot = 'silhouette')"
   ]
  },
  {
   "cell_type": "code",
   "execution_count": 16,
   "metadata": {},
   "outputs": [
    {
     "data": {
      "text/html": [],
      "text/plain": [
       "<IPython.core.display.HTML object>"
      ]
     },
     "metadata": {},
     "output_type": "display_data"
    },
    {
     "data": {
      "text/html": [
       "<style type=\"text/css\">\n",
       "</style>\n",
       "<table id=\"T_a67b4\">\n",
       "  <thead>\n",
       "    <tr>\n",
       "      <th class=\"blank level0\" >&nbsp;</th>\n",
       "      <th id=\"T_a67b4_level0_col0\" class=\"col_heading level0 col0\" >Silhouette</th>\n",
       "      <th id=\"T_a67b4_level0_col1\" class=\"col_heading level0 col1\" >Calinski-Harabasz</th>\n",
       "      <th id=\"T_a67b4_level0_col2\" class=\"col_heading level0 col2\" >Davies-Bouldin</th>\n",
       "      <th id=\"T_a67b4_level0_col3\" class=\"col_heading level0 col3\" >Homogeneity</th>\n",
       "      <th id=\"T_a67b4_level0_col4\" class=\"col_heading level0 col4\" >Rand Index</th>\n",
       "      <th id=\"T_a67b4_level0_col5\" class=\"col_heading level0 col5\" >Completeness</th>\n",
       "    </tr>\n",
       "  </thead>\n",
       "  <tbody>\n",
       "    <tr>\n",
       "      <th id=\"T_a67b4_level0_row0\" class=\"row_heading level0 row0\" >0</th>\n",
       "      <td id=\"T_a67b4_row0_col0\" class=\"data row0 col0\" >0</td>\n",
       "      <td id=\"T_a67b4_row0_col1\" class=\"data row0 col1\" >0</td>\n",
       "      <td id=\"T_a67b4_row0_col2\" class=\"data row0 col2\" >0</td>\n",
       "      <td id=\"T_a67b4_row0_col3\" class=\"data row0 col3\" >0</td>\n",
       "      <td id=\"T_a67b4_row0_col4\" class=\"data row0 col4\" >0</td>\n",
       "      <td id=\"T_a67b4_row0_col5\" class=\"data row0 col5\" >0</td>\n",
       "    </tr>\n",
       "  </tbody>\n",
       "</table>\n"
      ],
      "text/plain": [
       "<pandas.io.formats.style.Styler at 0x1367a7d60>"
      ]
     },
     "metadata": {},
     "output_type": "display_data"
    },
    {
     "data": {
      "text/html": [],
      "text/plain": [
       "<IPython.core.display.HTML object>"
      ]
     },
     "metadata": {},
     "output_type": "display_data"
    },
    {
     "data": {
      "text/html": [
       "<div>\n",
       "<style scoped>\n",
       "    .dataframe tbody tr th:only-of-type {\n",
       "        vertical-align: middle;\n",
       "    }\n",
       "\n",
       "    .dataframe tbody tr th {\n",
       "        vertical-align: top;\n",
       "    }\n",
       "\n",
       "    .dataframe thead th {\n",
       "        text-align: right;\n",
       "    }\n",
       "</style>\n",
       "<table border=\"1\" class=\"dataframe\">\n",
       "  <thead>\n",
       "    <tr style=\"text-align: right;\">\n",
       "      <th></th>\n",
       "      <th>Alcohol</th>\n",
       "      <th>Malic_Acid</th>\n",
       "      <th>Ash</th>\n",
       "      <th>Ash_Alcanity</th>\n",
       "      <th>Magnesium</th>\n",
       "      <th>Total_Phenols</th>\n",
       "      <th>Flavanoids</th>\n",
       "      <th>Nonflavanoid_Phenols</th>\n",
       "      <th>Proanthocyanins</th>\n",
       "      <th>Color_Intensity</th>\n",
       "      <th>Hue</th>\n",
       "      <th>OD280</th>\n",
       "      <th>Proline</th>\n",
       "      <th>Cluster</th>\n",
       "    </tr>\n",
       "  </thead>\n",
       "  <tbody>\n",
       "    <tr>\n",
       "      <th>0</th>\n",
       "      <td>14.23</td>\n",
       "      <td>1.71</td>\n",
       "      <td>2.43</td>\n",
       "      <td>15.600000</td>\n",
       "      <td>127</td>\n",
       "      <td>2.80</td>\n",
       "      <td>3.06</td>\n",
       "      <td>0.28</td>\n",
       "      <td>2.29</td>\n",
       "      <td>5.64</td>\n",
       "      <td>1.04</td>\n",
       "      <td>3.92</td>\n",
       "      <td>1065</td>\n",
       "      <td>Cluster -1</td>\n",
       "    </tr>\n",
       "    <tr>\n",
       "      <th>1</th>\n",
       "      <td>13.20</td>\n",
       "      <td>1.78</td>\n",
       "      <td>2.14</td>\n",
       "      <td>11.200000</td>\n",
       "      <td>100</td>\n",
       "      <td>2.65</td>\n",
       "      <td>2.76</td>\n",
       "      <td>0.26</td>\n",
       "      <td>1.28</td>\n",
       "      <td>4.38</td>\n",
       "      <td>1.05</td>\n",
       "      <td>3.40</td>\n",
       "      <td>1050</td>\n",
       "      <td>Cluster -1</td>\n",
       "    </tr>\n",
       "    <tr>\n",
       "      <th>2</th>\n",
       "      <td>13.16</td>\n",
       "      <td>2.36</td>\n",
       "      <td>2.67</td>\n",
       "      <td>18.600000</td>\n",
       "      <td>101</td>\n",
       "      <td>2.80</td>\n",
       "      <td>3.24</td>\n",
       "      <td>0.30</td>\n",
       "      <td>2.81</td>\n",
       "      <td>5.68</td>\n",
       "      <td>1.03</td>\n",
       "      <td>3.17</td>\n",
       "      <td>1185</td>\n",
       "      <td>Cluster -1</td>\n",
       "    </tr>\n",
       "    <tr>\n",
       "      <th>3</th>\n",
       "      <td>14.37</td>\n",
       "      <td>1.95</td>\n",
       "      <td>2.50</td>\n",
       "      <td>16.799999</td>\n",
       "      <td>113</td>\n",
       "      <td>3.85</td>\n",
       "      <td>3.49</td>\n",
       "      <td>0.24</td>\n",
       "      <td>2.18</td>\n",
       "      <td>7.80</td>\n",
       "      <td>0.86</td>\n",
       "      <td>3.45</td>\n",
       "      <td>1480</td>\n",
       "      <td>Cluster -1</td>\n",
       "    </tr>\n",
       "    <tr>\n",
       "      <th>4</th>\n",
       "      <td>13.24</td>\n",
       "      <td>2.59</td>\n",
       "      <td>2.87</td>\n",
       "      <td>21.000000</td>\n",
       "      <td>118</td>\n",
       "      <td>2.80</td>\n",
       "      <td>2.69</td>\n",
       "      <td>0.39</td>\n",
       "      <td>1.82</td>\n",
       "      <td>4.32</td>\n",
       "      <td>1.04</td>\n",
       "      <td>2.93</td>\n",
       "      <td>735</td>\n",
       "      <td>Cluster -1</td>\n",
       "    </tr>\n",
       "    <tr>\n",
       "      <th>...</th>\n",
       "      <td>...</td>\n",
       "      <td>...</td>\n",
       "      <td>...</td>\n",
       "      <td>...</td>\n",
       "      <td>...</td>\n",
       "      <td>...</td>\n",
       "      <td>...</td>\n",
       "      <td>...</td>\n",
       "      <td>...</td>\n",
       "      <td>...</td>\n",
       "      <td>...</td>\n",
       "      <td>...</td>\n",
       "      <td>...</td>\n",
       "      <td>...</td>\n",
       "    </tr>\n",
       "    <tr>\n",
       "      <th>173</th>\n",
       "      <td>13.71</td>\n",
       "      <td>5.65</td>\n",
       "      <td>2.45</td>\n",
       "      <td>20.500000</td>\n",
       "      <td>95</td>\n",
       "      <td>1.68</td>\n",
       "      <td>0.61</td>\n",
       "      <td>0.52</td>\n",
       "      <td>1.06</td>\n",
       "      <td>7.70</td>\n",
       "      <td>0.64</td>\n",
       "      <td>1.74</td>\n",
       "      <td>740</td>\n",
       "      <td>Cluster -1</td>\n",
       "    </tr>\n",
       "    <tr>\n",
       "      <th>174</th>\n",
       "      <td>13.40</td>\n",
       "      <td>3.91</td>\n",
       "      <td>2.48</td>\n",
       "      <td>23.000000</td>\n",
       "      <td>102</td>\n",
       "      <td>1.80</td>\n",
       "      <td>0.75</td>\n",
       "      <td>0.43</td>\n",
       "      <td>1.41</td>\n",
       "      <td>7.30</td>\n",
       "      <td>0.70</td>\n",
       "      <td>1.56</td>\n",
       "      <td>750</td>\n",
       "      <td>Cluster -1</td>\n",
       "    </tr>\n",
       "    <tr>\n",
       "      <th>175</th>\n",
       "      <td>13.27</td>\n",
       "      <td>4.28</td>\n",
       "      <td>2.26</td>\n",
       "      <td>20.000000</td>\n",
       "      <td>120</td>\n",
       "      <td>1.59</td>\n",
       "      <td>0.69</td>\n",
       "      <td>0.43</td>\n",
       "      <td>1.35</td>\n",
       "      <td>10.20</td>\n",
       "      <td>0.59</td>\n",
       "      <td>1.56</td>\n",
       "      <td>835</td>\n",
       "      <td>Cluster -1</td>\n",
       "    </tr>\n",
       "    <tr>\n",
       "      <th>176</th>\n",
       "      <td>13.17</td>\n",
       "      <td>2.59</td>\n",
       "      <td>2.37</td>\n",
       "      <td>20.000000</td>\n",
       "      <td>120</td>\n",
       "      <td>1.65</td>\n",
       "      <td>0.68</td>\n",
       "      <td>0.53</td>\n",
       "      <td>1.46</td>\n",
       "      <td>9.30</td>\n",
       "      <td>0.60</td>\n",
       "      <td>1.62</td>\n",
       "      <td>840</td>\n",
       "      <td>Cluster -1</td>\n",
       "    </tr>\n",
       "    <tr>\n",
       "      <th>177</th>\n",
       "      <td>14.13</td>\n",
       "      <td>4.10</td>\n",
       "      <td>2.74</td>\n",
       "      <td>24.500000</td>\n",
       "      <td>96</td>\n",
       "      <td>2.05</td>\n",
       "      <td>0.76</td>\n",
       "      <td>0.56</td>\n",
       "      <td>1.35</td>\n",
       "      <td>9.20</td>\n",
       "      <td>0.61</td>\n",
       "      <td>1.60</td>\n",
       "      <td>560</td>\n",
       "      <td>Cluster -1</td>\n",
       "    </tr>\n",
       "  </tbody>\n",
       "</table>\n",
       "<p>178 rows × 14 columns</p>\n",
       "</div>"
      ],
      "text/plain": [
       "     Alcohol  Malic_Acid   Ash  Ash_Alcanity  Magnesium  Total_Phenols  \\\n",
       "0      14.23        1.71  2.43     15.600000        127           2.80   \n",
       "1      13.20        1.78  2.14     11.200000        100           2.65   \n",
       "2      13.16        2.36  2.67     18.600000        101           2.80   \n",
       "3      14.37        1.95  2.50     16.799999        113           3.85   \n",
       "4      13.24        2.59  2.87     21.000000        118           2.80   \n",
       "..       ...         ...   ...           ...        ...            ...   \n",
       "173    13.71        5.65  2.45     20.500000         95           1.68   \n",
       "174    13.40        3.91  2.48     23.000000        102           1.80   \n",
       "175    13.27        4.28  2.26     20.000000        120           1.59   \n",
       "176    13.17        2.59  2.37     20.000000        120           1.65   \n",
       "177    14.13        4.10  2.74     24.500000         96           2.05   \n",
       "\n",
       "     Flavanoids  Nonflavanoid_Phenols  Proanthocyanins  Color_Intensity   Hue  \\\n",
       "0          3.06                  0.28             2.29             5.64  1.04   \n",
       "1          2.76                  0.26             1.28             4.38  1.05   \n",
       "2          3.24                  0.30             2.81             5.68  1.03   \n",
       "3          3.49                  0.24             2.18             7.80  0.86   \n",
       "4          2.69                  0.39             1.82             4.32  1.04   \n",
       "..          ...                   ...              ...              ...   ...   \n",
       "173        0.61                  0.52             1.06             7.70  0.64   \n",
       "174        0.75                  0.43             1.41             7.30  0.70   \n",
       "175        0.69                  0.43             1.35            10.20  0.59   \n",
       "176        0.68                  0.53             1.46             9.30  0.60   \n",
       "177        0.76                  0.56             1.35             9.20  0.61   \n",
       "\n",
       "     OD280  Proline     Cluster  \n",
       "0     3.92     1065  Cluster -1  \n",
       "1     3.40     1050  Cluster -1  \n",
       "2     3.17     1185  Cluster -1  \n",
       "3     3.45     1480  Cluster -1  \n",
       "4     2.93      735  Cluster -1  \n",
       "..     ...      ...         ...  \n",
       "173   1.74      740  Cluster -1  \n",
       "174   1.56      750  Cluster -1  \n",
       "175   1.56      835  Cluster -1  \n",
       "176   1.62      840  Cluster -1  \n",
       "177   1.60      560  Cluster -1  \n",
       "\n",
       "[178 rows x 14 columns]"
      ]
     },
     "execution_count": 16,
     "metadata": {},
     "output_type": "execute_result"
    }
   ],
   "source": [
    "dbscan = create_model('dbscan', )\n",
    "\n",
    "dbscan_cluster = assign_model(dbscan)\n",
    "dbscan_cluster"
   ]
  },
  {
   "cell_type": "code",
   "execution_count": 17,
   "metadata": {},
   "outputs": [
    {
     "data": {
      "text/html": [],
      "text/plain": [
       "<IPython.core.display.HTML object>"
      ]
     },
     "metadata": {},
     "output_type": "display_data"
    },
    {
     "data": {
      "application/vnd.plotly.v1+json": {
       "config": {
        "plotlyServerURL": "https://plot.ly"
       },
       "data": [
        {
         "customdata": [
          [
           14.23
          ],
          [
           11.41
          ],
          [
           12.08
          ],
          [
           11.03
          ],
          [
           11.82
          ],
          [
           12.42
          ],
          [
           12.77
          ],
          [
           12
          ],
          [
           11.45
          ],
          [
           11.76
          ],
          [
           11.56
          ],
          [
           13.05
          ],
          [
           11.87
          ],
          [
           12.07
          ],
          [
           12.43
          ],
          [
           11.79
          ],
          [
           12.37
          ],
          [
           12.04
          ],
          [
           12.86
          ],
          [
           12.42
          ],
          [
           12.88
          ],
          [
           12.52
          ],
          [
           11.61
          ],
          [
           12
          ],
          [
           12.69
          ],
          [
           12.29
          ],
          [
           11.62
          ],
          [
           12.47
          ],
          [
           11.81
          ],
          [
           12.29
          ],
          [
           12.37
          ],
          [
           11.46
          ],
          [
           12.29
          ],
          [
           12.6
          ],
          [
           12.34
          ],
          [
           11.82
          ],
          [
           12.51
          ],
          [
           12.42
          ],
          [
           12.25
          ],
          [
           12.72
          ],
          [
           12.22
          ],
          [
           12.08
          ],
          [
           12.81
          ],
          [
           12.7
          ],
          [
           12.51
          ],
          [
           14.34
          ],
          [
           13.48
          ],
          [
           12.36
          ],
          [
           13.69
          ],
          [
           12.85
          ],
          [
           12.96
          ],
          [
           13.78
          ],
          [
           13.73
          ],
          [
           12.45
          ],
          [
           13.45
          ],
          [
           13.58
          ],
          [
           13.4
          ],
          [
           12.2
          ],
          [
           12.77
          ],
          [
           14.16
          ],
          [
           13.71
          ],
          [
           13.4
          ],
          [
           13.27
          ],
          [
           12.82
          ],
          [
           13.84
          ],
          [
           13.17
          ],
          [
           12.58
          ],
          [
           12.6
          ],
          [
           12.25
          ],
          [
           12.53
          ],
          [
           13.49
          ],
          [
           12.84
          ],
          [
           12.93
          ],
          [
           13.36
          ],
          [
           13.52
          ],
          [
           13.62
          ],
          [
           12.25
          ],
          [
           13.16
          ],
          [
           13.88
          ],
          [
           12.87
          ],
          [
           13.32
          ],
          [
           13.08
          ],
          [
           13.5
          ],
          [
           12.79
          ],
          [
           13.11
          ],
          [
           13.23
          ],
          [
           12.08
          ],
          [
           12.08
          ],
          [
           11.64
          ],
          [
           11.65
          ],
          [
           13.5
          ],
          [
           13.05
          ],
          [
           13.39
          ],
          [
           13.3
          ],
          [
           13.87
          ],
          [
           14.02
          ],
          [
           13.73
          ],
          [
           13.58
          ],
          [
           12.85
          ],
          [
           13.68
          ],
          [
           13.51
          ],
          [
           13.48
          ],
          [
           13.28
          ],
          [
           13.05
          ],
          [
           13.07
          ],
          [
           14.22
          ],
          [
           13.56
          ],
          [
           13.41
          ],
          [
           13.76
          ],
          [
           13.71
          ],
          [
           12.93
          ],
          [
           14.06
          ],
          [
           13.2
          ],
          [
           13.16
          ],
          [
           14.37
          ],
          [
           13.24
          ],
          [
           14.2
          ],
          [
           14.39
          ],
          [
           14.06
          ],
          [
           14.83
          ],
          [
           13.86
          ],
          [
           14.1
          ],
          [
           14.12
          ],
          [
           13.75
          ],
          [
           14.75
          ],
          [
           14.38
          ],
          [
           13.63
          ],
          [
           14.3
          ],
          [
           13.83
          ],
          [
           14.19
          ],
          [
           13.64
          ],
          [
           13.88
          ],
          [
           13.17
          ],
          [
           13.24
          ],
          [
           14.21
          ],
          [
           12.21
          ],
          [
           12.29
          ],
          [
           13.86
          ],
          [
           13.49
          ],
          [
           12.99
          ],
          [
           11.96
          ],
          [
           11.66
          ],
          [
           13.03
          ],
          [
           13.34
          ],
          [
           11.84
          ],
          [
           12.7
          ],
          [
           12
          ],
          [
           12.72
          ],
          [
           12.08
          ],
          [
           13.05
          ],
          [
           11.84
          ],
          [
           12.67
          ],
          [
           12.16
          ],
          [
           12.33
          ],
          [
           12.37
          ],
          [
           13.11
          ],
          [
           12.37
          ],
          [
           14.38
          ],
          [
           13.9
          ],
          [
           14.1
          ],
          [
           13.94
          ],
          [
           13.05
          ],
          [
           13.83
          ],
          [
           13.82
          ],
          [
           13.77
          ],
          [
           13.74
          ],
          [
           13.56
          ],
          [
           14.22
          ],
          [
           13.29
          ],
          [
           13.72
          ],
          [
           12.37
          ],
          [
           12.33
          ],
          [
           12.64
          ],
          [
           13.67
          ],
          [
           12.37
          ],
          [
           12.17
          ],
          [
           13.05
          ],
          [
           14.13
          ]
         ],
         "hovertemplate": "Cluster=Cluster -1<br>PCA1=%{x}<br>PCA2=%{y}<br>Feature=%{customdata[0]}<extra></extra>",
         "legendgroup": "Cluster -1",
         "marker": {
          "color": "#636efa",
          "opacity": 0.5,
          "symbol": "circle"
         },
         "mode": "markers",
         "name": "Cluster -1",
         "orientation": "v",
         "showlegend": true,
         "textposition": "top center",
         "type": "scatter",
         "x": [
          3.3167506098637793,
          -0.4570718486952967,
          -0.49418593613149003,
          0.48207439194653057,
          -0.2528890015228577,
          -0.10722774348041993,
          -2.4330126652365394,
          -0.5510896165132102,
          0.7396220026823846,
          -1.303145027691489,
          1.3363218633191742,
          -0.4623351175074454,
          0.978474091833823,
          -0.09680984715871442,
          0.03848720761704907,
          -1.5971583623285432,
          -0.47956497361099965,
          -1.7928335569555898,
          -1.3271017407322387,
          -1.17708690299031,
          -2.3845008407823163,
          -0.27870275750866014,
          1.5782750108814518,
          -1.564482605952622,
          -1.9325557512407379,
          0.7466658928432981,
          0.9574552744175617,
          2.5438652377423283,
          -0.5439525234508774,
          1.0310497133171228,
          2.2519093256951943,
          1.420569170999464,
          1.4102157990479645,
          -0.5495316906972092,
          -0.16117378240842292,
          -0.6597950506875304,
          0.3923543627772437,
          -1.7724991930632985,
          -0.3662673990444128,
          -1.6206724870924365,
          0.08253572286484391,
          0.7977197975221625,
          -2.9369399932755074,
          -2.1468111771527876,
          -2.369869517036911,
          -1.048181761042957,
          -1.6099123742108774,
          -3.143131027205567,
          -2.240156925265367,
          -2.847673818070217,
          -2.5974970820464085,
          -2.949299430599108,
          -3.530032384000661,
          -3.3921560732424068,
          -2.406110529236404,
          -2.1814127818070985,
          -2.3809278148936297,
          -3.211617189642994,
          -3.6779186511425386,
          -2.4655557893108973,
          -3.370524155815543,
          -2.6019560344361845,
          -2.6778394456612187,
          -2.929084696754228,
          -2.88982599138369,
          -3.60486886736107,
          -2.7371504864197207,
          -3.063841437286165,
          -3.9157536668968493,
          -3.936463446754946,
          -3.094276063681743,
          -2.3744715334700977,
          -2.778812879427196,
          -2.2865613584060767,
          -2.9856334853776274,
          -2.3751946681970018,
          -2.2098655863610226,
          -2.625621044018387,
          -4.280638734689454,
          -3.5826413446428433,
          -2.8070637513404164,
          -2.8996593654696112,
          -2.3207369849672546,
          -2.5498309312199643,
          -1.812541256320251,
          -2.7601447844623883,
          -1.3492852368069121,
          -0.5557227475892199,
          -1.1151109251525848,
          -0.5580426854366224,
          1.761575763350098,
          0.9900792597184707,
          1.775277673837712,
          1.2354240121494564,
          2.188406422283434,
          2.256109037589441,
          2.5002201361483025,
          2.677411100085984,
          1.6449885509812445,
          1.628579181761846,
          1.4103884813155663,
          1.9038261915516177,
          1.3848621835981625,
          1.1222075535526514,
          1.5021944851675433,
          2.5298010599663443,
          2.5880954575200352,
          0.668482097736074,
          1.9026909544271438,
          2.535224048411834,
          1.086570151961807,
          3.124402653850695,
          2.2094649221811666,
          2.516740038121097,
          3.7570656767622554,
          1.0089085145678631,
          3.050253834409665,
          2.449089610898785,
          2.059436709547631,
          2.5108743036647403,
          2.7536281497691597,
          3.4797368356061926,
          1.7547529456624198,
          2.1134622759990087,
          3.458156758512529,
          4.312784042231237,
          2.305188162983729,
          2.1719554579663,
          1.8989711898754933,
          3.5419850206043604,
          2.0845222131329044,
          3.070806980909624,
          -2.3870169341491105,
          0.4622091833870975,
          1.136166152472375,
          1.9756204451778372,
          -1.5722161443367257,
          1.6576818064911303,
          -0.7253724530095363,
          2.562227120088713,
          1.832567736415216,
          -0.8679928821385593,
          0.37001446274638017,
          -0.8128051360942788,
          -1.4573770926626632,
          0.3761504213229184,
          0.7620637688735602,
          1.0345780926030306,
          -0.49487686376994683,
          -2.538977108606044,
          0.8353201461250123,
          0.7879047146543088,
          -0.8068321528696011,
          1.2629306908047233,
          0.18338385628703882,
          2.2485071715700515,
          0.9002278535768589,
          2.7266010151997553,
          2.8213392626954774,
          2.0098511684571863,
          2.707491248281561,
          3.214917620928531,
          2.858959731295855,
          3.5056043665878547,
          2.2247914558734365,
          2.1469878625144814,
          2.4693296000686837,
          2.7415180063518454,
          2.173740966786319,
          3.1393801506073524,
          -0.9285821033529299,
          -1.54248021197029,
          -1.8362495849040403,
          0.030606820489338625,
          2.0502615050519153,
          -0.6096807793454894,
          2.1013518768359734,
          -3.2087580716832917
         ],
         "xaxis": "x",
         "y": [
          -1.4434624211316247,
          2.269415723996257,
          1.9390451095365173,
          3.8717839819689486,
          2.8214924742726097,
          1.928921855539827,
          1.2571406280749164,
          2.222161498856187,
          1.4089566874314567,
          0.7631720685372034,
          -0.2533371735577655,
          0.6182879016809097,
          1.4455704768488813,
          2.109998087179182,
          1.266761947092334,
          1.2081436234836067,
          1.938840772254834,
          1.1502879651053899,
          -0.1703889890571205,
          0.6639667696792642,
          -0.37458283695260536,
          1.9305676817722799,
          1.4620343779407796,
          1.852214384564219,
          1.5594956711270171,
          2.3129316367553616,
          2.223528510891402,
          -0.16927427520606517,
          0.36892623272437386,
          2.5655693784716145,
          1.432741541812368,
          1.4182064752636354,
          2.166191685015095,
          2.293128350954132,
          1.164483222503422,
          2.679961380733725,
          2.0987314698219186,
          1.7172884086545965,
          2.169353406907187,
          1.355583259043133,
          2.3062343718700964,
          2.376948807199041,
          -0.2638621308078207,
          -0.3682547847201009,
          0.45963468163142907,
          -3.5150897943988224,
          -2.406637985999244,
          -0.7381609860817806,
          -1.1754650605689665,
          -0.5560441495432629,
          -0.6979655517575986,
          -1.5553087678221584,
          -0.8825265759978242,
          -1.3118763914764764,
          -2.5923560447958756,
          -2.0775372896867723,
          -2.5886670826537146,
          0.2512492853267772,
          -0.8477480595114631,
          -2.193798175276748,
          -2.2162892383686583,
          -1.7572292592497225,
          -2.7608994939302076,
          -1.2744467309576482,
          -1.9252188949222064,
          -1.8023842380756834,
          -0.4098861532837731,
          -0.35341310919112745,
          -0.1545824737811335,
          -0.6596872919646062,
          -0.34884264084824784,
          -0.2919803463074724,
          -0.2868051432151668,
          -0.37250752283397426,
          -0.489218262493836,
          -0.48233352856667466,
          -1.1600526709758943,
          -0.563160804520212,
          -0.6496711343517505,
          -1.2727027669708348,
          -1.5705337535457375,
          -2.0410568117525414,
          -2.3563660825023924,
          -2.045283187245528,
          -1.5276457016975655,
          -2.1389321733362654,
          2.118001579172108,
          2.6575402042362337,
          1.8022469382339712,
          2.372985843468431,
          0.3171490875880547,
          -0.9406674681459815,
          -0.6861751864790626,
          0.08980676680285135,
          -0.6895694443937495,
          -0.19146224855620486,
          -1.2408334523774303,
          -1.4718733737226894,
          0.5162787833198536,
          -0.052704498068539815,
          -0.697934490277267,
          -0.17671075862863192,
          -0.658639519135786,
          -0.11410980042675133,
          0.7694322438079366,
          -1.8030021321509098,
          -0.7796164976897237,
          -0.16996071984954186,
          -1.6330606293515402,
          0.09184077445306489,
          -0.24174389340839253,
          -0.7868972640104414,
          0.33339283259065106,
          -1.0311512290705094,
          -2.7563718067777114,
          -0.869830603433508,
          -2.122401092670303,
          -1.1748504098934394,
          -1.6089633206947913,
          -0.9180708759846014,
          -0.789437380813159,
          -1.3023333754111186,
          -0.6119771312195278,
          -0.6757063732971682,
          -1.1306299638171533,
          -2.095975662883813,
          -1.6625518455472559,
          -2.3273053157858734,
          -1.6313686841284623,
          -2.5183433209554686,
          -1.06113814124229,
          -1.1559188645862029,
          -2.29734662751806,
          -0.33074201476497445,
          -1.77710741486888,
          1.4032831086870485,
          0.8849831024887059,
          0.9567123814815158,
          1.0636455618085618,
          -0.26019830867691157,
          1.2878782719611883,
          2.4441013562484937,
          2.1539072002351567,
          0.2205139643470659,
          1.3833515222600068,
          1.0270435369699222,
          3.375053782704674,
          1.4507095051509735,
          2.3812435183265452,
          0.08744322455509693,
          1.4736705502086094,
          2.0266265231542535,
          2.2338305759410853,
          0.7708493642003268,
          2.4271463246416665,
          1.8845926585271688,
          0.7639116812299583,
          -1.1913347414085165,
          -0.6462581493212536,
          -1.2470296669490202,
          -1.751967027807632,
          -0.16699198253025557,
          -0.7452785988668695,
          -1.6127337772239645,
          -1.8751683425867154,
          -1.0167513126748438,
          -1.3290085759215682,
          -1.43654891188549,
          -1.2121998245779486,
          -1.7315793094842775,
          3.0734861456740123,
          1.3814435658326032,
          0.8299839602628509,
          1.2627862247924988,
          1.9250326761647651,
          1.9080588267010725,
          0.07100891669385175,
          -2.768919573599912
         ],
         "yaxis": "y"
        }
       ],
       "layout": {
        "height": 600,
        "legend": {
         "title": {
          "text": "Cluster"
         },
         "tracegroupgap": 0
        },
        "margin": {
         "t": 60
        },
        "plot_bgcolor": "rgb(240,240,240)",
        "template": {
         "data": {
          "bar": [
           {
            "error_x": {
             "color": "#2a3f5f"
            },
            "error_y": {
             "color": "#2a3f5f"
            },
            "marker": {
             "line": {
              "color": "#E5ECF6",
              "width": 0.5
             },
             "pattern": {
              "fillmode": "overlay",
              "size": 10,
              "solidity": 0.2
             }
            },
            "type": "bar"
           }
          ],
          "barpolar": [
           {
            "marker": {
             "line": {
              "color": "#E5ECF6",
              "width": 0.5
             },
             "pattern": {
              "fillmode": "overlay",
              "size": 10,
              "solidity": 0.2
             }
            },
            "type": "barpolar"
           }
          ],
          "carpet": [
           {
            "aaxis": {
             "endlinecolor": "#2a3f5f",
             "gridcolor": "white",
             "linecolor": "white",
             "minorgridcolor": "white",
             "startlinecolor": "#2a3f5f"
            },
            "baxis": {
             "endlinecolor": "#2a3f5f",
             "gridcolor": "white",
             "linecolor": "white",
             "minorgridcolor": "white",
             "startlinecolor": "#2a3f5f"
            },
            "type": "carpet"
           }
          ],
          "choropleth": [
           {
            "colorbar": {
             "outlinewidth": 0,
             "ticks": ""
            },
            "type": "choropleth"
           }
          ],
          "contour": [
           {
            "colorbar": {
             "outlinewidth": 0,
             "ticks": ""
            },
            "colorscale": [
             [
              0,
              "#0d0887"
             ],
             [
              0.1111111111111111,
              "#46039f"
             ],
             [
              0.2222222222222222,
              "#7201a8"
             ],
             [
              0.3333333333333333,
              "#9c179e"
             ],
             [
              0.4444444444444444,
              "#bd3786"
             ],
             [
              0.5555555555555556,
              "#d8576b"
             ],
             [
              0.6666666666666666,
              "#ed7953"
             ],
             [
              0.7777777777777778,
              "#fb9f3a"
             ],
             [
              0.8888888888888888,
              "#fdca26"
             ],
             [
              1,
              "#f0f921"
             ]
            ],
            "type": "contour"
           }
          ],
          "contourcarpet": [
           {
            "colorbar": {
             "outlinewidth": 0,
             "ticks": ""
            },
            "type": "contourcarpet"
           }
          ],
          "heatmap": [
           {
            "colorbar": {
             "outlinewidth": 0,
             "ticks": ""
            },
            "colorscale": [
             [
              0,
              "#0d0887"
             ],
             [
              0.1111111111111111,
              "#46039f"
             ],
             [
              0.2222222222222222,
              "#7201a8"
             ],
             [
              0.3333333333333333,
              "#9c179e"
             ],
             [
              0.4444444444444444,
              "#bd3786"
             ],
             [
              0.5555555555555556,
              "#d8576b"
             ],
             [
              0.6666666666666666,
              "#ed7953"
             ],
             [
              0.7777777777777778,
              "#fb9f3a"
             ],
             [
              0.8888888888888888,
              "#fdca26"
             ],
             [
              1,
              "#f0f921"
             ]
            ],
            "type": "heatmap"
           }
          ],
          "heatmapgl": [
           {
            "colorbar": {
             "outlinewidth": 0,
             "ticks": ""
            },
            "colorscale": [
             [
              0,
              "#0d0887"
             ],
             [
              0.1111111111111111,
              "#46039f"
             ],
             [
              0.2222222222222222,
              "#7201a8"
             ],
             [
              0.3333333333333333,
              "#9c179e"
             ],
             [
              0.4444444444444444,
              "#bd3786"
             ],
             [
              0.5555555555555556,
              "#d8576b"
             ],
             [
              0.6666666666666666,
              "#ed7953"
             ],
             [
              0.7777777777777778,
              "#fb9f3a"
             ],
             [
              0.8888888888888888,
              "#fdca26"
             ],
             [
              1,
              "#f0f921"
             ]
            ],
            "type": "heatmapgl"
           }
          ],
          "histogram": [
           {
            "marker": {
             "pattern": {
              "fillmode": "overlay",
              "size": 10,
              "solidity": 0.2
             }
            },
            "type": "histogram"
           }
          ],
          "histogram2d": [
           {
            "colorbar": {
             "outlinewidth": 0,
             "ticks": ""
            },
            "colorscale": [
             [
              0,
              "#0d0887"
             ],
             [
              0.1111111111111111,
              "#46039f"
             ],
             [
              0.2222222222222222,
              "#7201a8"
             ],
             [
              0.3333333333333333,
              "#9c179e"
             ],
             [
              0.4444444444444444,
              "#bd3786"
             ],
             [
              0.5555555555555556,
              "#d8576b"
             ],
             [
              0.6666666666666666,
              "#ed7953"
             ],
             [
              0.7777777777777778,
              "#fb9f3a"
             ],
             [
              0.8888888888888888,
              "#fdca26"
             ],
             [
              1,
              "#f0f921"
             ]
            ],
            "type": "histogram2d"
           }
          ],
          "histogram2dcontour": [
           {
            "colorbar": {
             "outlinewidth": 0,
             "ticks": ""
            },
            "colorscale": [
             [
              0,
              "#0d0887"
             ],
             [
              0.1111111111111111,
              "#46039f"
             ],
             [
              0.2222222222222222,
              "#7201a8"
             ],
             [
              0.3333333333333333,
              "#9c179e"
             ],
             [
              0.4444444444444444,
              "#bd3786"
             ],
             [
              0.5555555555555556,
              "#d8576b"
             ],
             [
              0.6666666666666666,
              "#ed7953"
             ],
             [
              0.7777777777777778,
              "#fb9f3a"
             ],
             [
              0.8888888888888888,
              "#fdca26"
             ],
             [
              1,
              "#f0f921"
             ]
            ],
            "type": "histogram2dcontour"
           }
          ],
          "mesh3d": [
           {
            "colorbar": {
             "outlinewidth": 0,
             "ticks": ""
            },
            "type": "mesh3d"
           }
          ],
          "parcoords": [
           {
            "line": {
             "colorbar": {
              "outlinewidth": 0,
              "ticks": ""
             }
            },
            "type": "parcoords"
           }
          ],
          "pie": [
           {
            "automargin": true,
            "type": "pie"
           }
          ],
          "scatter": [
           {
            "fillpattern": {
             "fillmode": "overlay",
             "size": 10,
             "solidity": 0.2
            },
            "type": "scatter"
           }
          ],
          "scatter3d": [
           {
            "line": {
             "colorbar": {
              "outlinewidth": 0,
              "ticks": ""
             }
            },
            "marker": {
             "colorbar": {
              "outlinewidth": 0,
              "ticks": ""
             }
            },
            "type": "scatter3d"
           }
          ],
          "scattercarpet": [
           {
            "marker": {
             "colorbar": {
              "outlinewidth": 0,
              "ticks": ""
             }
            },
            "type": "scattercarpet"
           }
          ],
          "scattergeo": [
           {
            "marker": {
             "colorbar": {
              "outlinewidth": 0,
              "ticks": ""
             }
            },
            "type": "scattergeo"
           }
          ],
          "scattergl": [
           {
            "marker": {
             "colorbar": {
              "outlinewidth": 0,
              "ticks": ""
             }
            },
            "type": "scattergl"
           }
          ],
          "scattermapbox": [
           {
            "marker": {
             "colorbar": {
              "outlinewidth": 0,
              "ticks": ""
             }
            },
            "type": "scattermapbox"
           }
          ],
          "scatterpolar": [
           {
            "marker": {
             "colorbar": {
              "outlinewidth": 0,
              "ticks": ""
             }
            },
            "type": "scatterpolar"
           }
          ],
          "scatterpolargl": [
           {
            "marker": {
             "colorbar": {
              "outlinewidth": 0,
              "ticks": ""
             }
            },
            "type": "scatterpolargl"
           }
          ],
          "scatterternary": [
           {
            "marker": {
             "colorbar": {
              "outlinewidth": 0,
              "ticks": ""
             }
            },
            "type": "scatterternary"
           }
          ],
          "surface": [
           {
            "colorbar": {
             "outlinewidth": 0,
             "ticks": ""
            },
            "colorscale": [
             [
              0,
              "#0d0887"
             ],
             [
              0.1111111111111111,
              "#46039f"
             ],
             [
              0.2222222222222222,
              "#7201a8"
             ],
             [
              0.3333333333333333,
              "#9c179e"
             ],
             [
              0.4444444444444444,
              "#bd3786"
             ],
             [
              0.5555555555555556,
              "#d8576b"
             ],
             [
              0.6666666666666666,
              "#ed7953"
             ],
             [
              0.7777777777777778,
              "#fb9f3a"
             ],
             [
              0.8888888888888888,
              "#fdca26"
             ],
             [
              1,
              "#f0f921"
             ]
            ],
            "type": "surface"
           }
          ],
          "table": [
           {
            "cells": {
             "fill": {
              "color": "#EBF0F8"
             },
             "line": {
              "color": "white"
             }
            },
            "header": {
             "fill": {
              "color": "#C8D4E3"
             },
             "line": {
              "color": "white"
             }
            },
            "type": "table"
           }
          ]
         },
         "layout": {
          "annotationdefaults": {
           "arrowcolor": "#2a3f5f",
           "arrowhead": 0,
           "arrowwidth": 1
          },
          "autotypenumbers": "strict",
          "coloraxis": {
           "colorbar": {
            "outlinewidth": 0,
            "ticks": ""
           }
          },
          "colorscale": {
           "diverging": [
            [
             0,
             "#8e0152"
            ],
            [
             0.1,
             "#c51b7d"
            ],
            [
             0.2,
             "#de77ae"
            ],
            [
             0.3,
             "#f1b6da"
            ],
            [
             0.4,
             "#fde0ef"
            ],
            [
             0.5,
             "#f7f7f7"
            ],
            [
             0.6,
             "#e6f5d0"
            ],
            [
             0.7,
             "#b8e186"
            ],
            [
             0.8,
             "#7fbc41"
            ],
            [
             0.9,
             "#4d9221"
            ],
            [
             1,
             "#276419"
            ]
           ],
           "sequential": [
            [
             0,
             "#0d0887"
            ],
            [
             0.1111111111111111,
             "#46039f"
            ],
            [
             0.2222222222222222,
             "#7201a8"
            ],
            [
             0.3333333333333333,
             "#9c179e"
            ],
            [
             0.4444444444444444,
             "#bd3786"
            ],
            [
             0.5555555555555556,
             "#d8576b"
            ],
            [
             0.6666666666666666,
             "#ed7953"
            ],
            [
             0.7777777777777778,
             "#fb9f3a"
            ],
            [
             0.8888888888888888,
             "#fdca26"
            ],
            [
             1,
             "#f0f921"
            ]
           ],
           "sequentialminus": [
            [
             0,
             "#0d0887"
            ],
            [
             0.1111111111111111,
             "#46039f"
            ],
            [
             0.2222222222222222,
             "#7201a8"
            ],
            [
             0.3333333333333333,
             "#9c179e"
            ],
            [
             0.4444444444444444,
             "#bd3786"
            ],
            [
             0.5555555555555556,
             "#d8576b"
            ],
            [
             0.6666666666666666,
             "#ed7953"
            ],
            [
             0.7777777777777778,
             "#fb9f3a"
            ],
            [
             0.8888888888888888,
             "#fdca26"
            ],
            [
             1,
             "#f0f921"
            ]
           ]
          },
          "colorway": [
           "#636efa",
           "#EF553B",
           "#00cc96",
           "#ab63fa",
           "#FFA15A",
           "#19d3f3",
           "#FF6692",
           "#B6E880",
           "#FF97FF",
           "#FECB52"
          ],
          "font": {
           "color": "#2a3f5f"
          },
          "geo": {
           "bgcolor": "white",
           "lakecolor": "white",
           "landcolor": "#E5ECF6",
           "showlakes": true,
           "showland": true,
           "subunitcolor": "white"
          },
          "hoverlabel": {
           "align": "left"
          },
          "hovermode": "closest",
          "mapbox": {
           "style": "light"
          },
          "paper_bgcolor": "white",
          "plot_bgcolor": "#E5ECF6",
          "polar": {
           "angularaxis": {
            "gridcolor": "white",
            "linecolor": "white",
            "ticks": ""
           },
           "bgcolor": "#E5ECF6",
           "radialaxis": {
            "gridcolor": "white",
            "linecolor": "white",
            "ticks": ""
           }
          },
          "scene": {
           "xaxis": {
            "backgroundcolor": "#E5ECF6",
            "gridcolor": "white",
            "gridwidth": 2,
            "linecolor": "white",
            "showbackground": true,
            "ticks": "",
            "zerolinecolor": "white"
           },
           "yaxis": {
            "backgroundcolor": "#E5ECF6",
            "gridcolor": "white",
            "gridwidth": 2,
            "linecolor": "white",
            "showbackground": true,
            "ticks": "",
            "zerolinecolor": "white"
           },
           "zaxis": {
            "backgroundcolor": "#E5ECF6",
            "gridcolor": "white",
            "gridwidth": 2,
            "linecolor": "white",
            "showbackground": true,
            "ticks": "",
            "zerolinecolor": "white"
           }
          },
          "shapedefaults": {
           "line": {
            "color": "#2a3f5f"
           }
          },
          "ternary": {
           "aaxis": {
            "gridcolor": "white",
            "linecolor": "white",
            "ticks": ""
           },
           "baxis": {
            "gridcolor": "white",
            "linecolor": "white",
            "ticks": ""
           },
           "bgcolor": "#E5ECF6",
           "caxis": {
            "gridcolor": "white",
            "linecolor": "white",
            "ticks": ""
           }
          },
          "title": {
           "x": 0.05
          },
          "xaxis": {
           "automargin": true,
           "gridcolor": "white",
           "linecolor": "white",
           "ticks": "",
           "title": {
            "standoff": 15
           },
           "zerolinecolor": "white",
           "zerolinewidth": 2
          },
          "yaxis": {
           "automargin": true,
           "gridcolor": "white",
           "linecolor": "white",
           "ticks": "",
           "title": {
            "standoff": 15
           },
           "zerolinecolor": "white",
           "zerolinewidth": 2
          }
         }
        },
        "title": {
         "text": "2D Cluster PCA Plot"
        },
        "xaxis": {
         "anchor": "y",
         "domain": [
          0,
          1
         ],
         "title": {
          "text": "PCA1"
         }
        },
        "yaxis": {
         "anchor": "x",
         "domain": [
          0,
          1
         ],
         "title": {
          "text": "PCA2"
         }
        }
       }
      }
     },
     "metadata": {},
     "output_type": "display_data"
    },
    {
     "data": {
      "text/html": [],
      "text/plain": [
       "<IPython.core.display.HTML object>"
      ]
     },
     "metadata": {},
     "output_type": "display_data"
    },
    {
     "data": {
      "application/vnd.plotly.v1+json": {
       "config": {
        "plotlyServerURL": "https://plot.ly"
       },
       "data": [
        {
         "customdata": [
          [
           14.23
          ],
          [
           11.41
          ],
          [
           12.08
          ],
          [
           11.03
          ],
          [
           11.82
          ],
          [
           12.42
          ],
          [
           12.77
          ],
          [
           12
          ],
          [
           11.45
          ],
          [
           11.76
          ],
          [
           11.56
          ],
          [
           13.05
          ],
          [
           11.87
          ],
          [
           12.07
          ],
          [
           12.43
          ],
          [
           11.79
          ],
          [
           12.37
          ],
          [
           12.04
          ],
          [
           12.86
          ],
          [
           12.42
          ],
          [
           12.88
          ],
          [
           12.52
          ],
          [
           11.61
          ],
          [
           12
          ],
          [
           12.69
          ],
          [
           12.29
          ],
          [
           11.62
          ],
          [
           12.47
          ],
          [
           11.81
          ],
          [
           12.29
          ],
          [
           12.37
          ],
          [
           11.46
          ],
          [
           12.29
          ],
          [
           12.6
          ],
          [
           12.34
          ],
          [
           11.82
          ],
          [
           12.51
          ],
          [
           12.42
          ],
          [
           12.25
          ],
          [
           12.72
          ],
          [
           12.22
          ],
          [
           12.08
          ],
          [
           12.81
          ],
          [
           12.7
          ],
          [
           12.51
          ],
          [
           14.34
          ],
          [
           13.48
          ],
          [
           12.36
          ],
          [
           13.69
          ],
          [
           12.85
          ],
          [
           12.96
          ],
          [
           13.78
          ],
          [
           13.73
          ],
          [
           12.45
          ],
          [
           13.45
          ],
          [
           13.58
          ],
          [
           13.4
          ],
          [
           12.2
          ],
          [
           12.77
          ],
          [
           14.16
          ],
          [
           13.71
          ],
          [
           13.4
          ],
          [
           13.27
          ],
          [
           12.82
          ],
          [
           13.84
          ],
          [
           13.17
          ],
          [
           12.58
          ],
          [
           12.6
          ],
          [
           12.25
          ],
          [
           12.53
          ],
          [
           13.49
          ],
          [
           12.84
          ],
          [
           12.93
          ],
          [
           13.36
          ],
          [
           13.52
          ],
          [
           13.62
          ],
          [
           12.25
          ],
          [
           13.16
          ],
          [
           13.88
          ],
          [
           12.87
          ],
          [
           13.32
          ],
          [
           13.08
          ],
          [
           13.5
          ],
          [
           12.79
          ],
          [
           13.11
          ],
          [
           13.23
          ],
          [
           12.08
          ],
          [
           12.08
          ],
          [
           11.64
          ],
          [
           11.65
          ],
          [
           13.5
          ],
          [
           13.05
          ],
          [
           13.39
          ],
          [
           13.3
          ],
          [
           13.87
          ],
          [
           14.02
          ],
          [
           13.73
          ],
          [
           13.58
          ],
          [
           12.85
          ],
          [
           13.68
          ],
          [
           13.51
          ],
          [
           13.48
          ],
          [
           13.28
          ],
          [
           13.05
          ],
          [
           13.07
          ],
          [
           14.22
          ],
          [
           13.56
          ],
          [
           13.41
          ],
          [
           13.76
          ],
          [
           13.71
          ],
          [
           12.93
          ],
          [
           14.06
          ],
          [
           13.2
          ],
          [
           13.16
          ],
          [
           14.37
          ],
          [
           13.24
          ],
          [
           14.2
          ],
          [
           14.39
          ],
          [
           14.06
          ],
          [
           14.83
          ],
          [
           13.86
          ],
          [
           14.1
          ],
          [
           14.12
          ],
          [
           13.75
          ],
          [
           14.75
          ],
          [
           14.38
          ],
          [
           13.63
          ],
          [
           14.3
          ],
          [
           13.83
          ],
          [
           14.19
          ],
          [
           13.64
          ],
          [
           13.88
          ],
          [
           13.17
          ],
          [
           13.24
          ],
          [
           14.21
          ],
          [
           12.21
          ],
          [
           12.29
          ],
          [
           13.86
          ],
          [
           13.49
          ],
          [
           12.99
          ],
          [
           11.96
          ],
          [
           11.66
          ],
          [
           13.03
          ],
          [
           13.34
          ],
          [
           11.84
          ],
          [
           12.7
          ],
          [
           12
          ],
          [
           12.72
          ],
          [
           12.08
          ],
          [
           13.05
          ],
          [
           11.84
          ],
          [
           12.67
          ],
          [
           12.16
          ],
          [
           12.33
          ],
          [
           12.37
          ],
          [
           13.11
          ],
          [
           12.37
          ],
          [
           14.38
          ],
          [
           13.9
          ],
          [
           14.1
          ],
          [
           13.94
          ],
          [
           13.05
          ],
          [
           13.83
          ],
          [
           13.82
          ],
          [
           13.77
          ],
          [
           13.74
          ],
          [
           13.56
          ],
          [
           14.22
          ],
          [
           13.29
          ],
          [
           13.72
          ],
          [
           12.37
          ],
          [
           12.33
          ],
          [
           12.64
          ],
          [
           13.67
          ],
          [
           12.37
          ],
          [
           12.17
          ],
          [
           13.05
          ],
          [
           14.13
          ]
         ],
         "hovertemplate": "Cluster=Cluster -1<br>0=%{x}<br>1=%{y}<br>2=%{z}<br>Feature=%{customdata[0]}<extra></extra>",
         "legendgroup": "Cluster -1",
         "marker": {
          "color": "#636efa",
          "opacity": 0.7,
          "symbol": "circle"
         },
         "mode": "markers",
         "name": "Cluster -1",
         "scene": "scene",
         "showlegend": true,
         "type": "scatter3d",
         "x": [
          6.561126,
          -2.0144029,
          -1.4622015,
          -0.65151364,
          -0.451716,
          -0.37401757,
          -4.162323,
          -1.5003558,
          0.40104893,
          -3.1833334,
          0.8525521,
          0.7318895,
          0.49418244,
          -0.5237057,
          -0.8325807,
          -2.2674983,
          -1.2275565,
          -2.6953535,
          -3.9911284,
          -0.7161925,
          -4.8842173,
          -0.1030241,
          1.1443722,
          -2.649016,
          -3.0750504,
          0.85071135,
          1.6732216,
          6.039618,
          -3.3837337,
          1.3299656,
          2.8131957,
          0.40200505,
          0.49466902,
          -0.29806456,
          -0.30999428,
          -0.7648936,
          0.13328953,
          -3.5313215,
          -0.718306,
          -2.915358,
          -0.61064094,
          0.71697164,
          -5.2214975,
          -4.874006,
          -3.9718652,
          -9.103118,
          -8.994246,
          -6.5223746,
          -6.288404,
          -6.5065556,
          -5.2025332,
          -6.5382104,
          -6.323661,
          -7.8454947,
          -7.5837545,
          -7.517211,
          -7.643808,
          -4.746516,
          -5.7596803,
          -7.181887,
          -7.42295,
          -7.080342,
          -6.6829123,
          -6.1098084,
          -7.4602942,
          -7.6783,
          -4.631476,
          -4.617223,
          -6.9957356,
          -7.478821,
          -5.5690637,
          -6.645331,
          -6.0529113,
          -5.0746336,
          -6.2622538,
          -6.0794225,
          -5.4054937,
          -5.415363,
          -6.2817016,
          -6.8185334,
          -6.835437,
          -6.4649644,
          -6.764253,
          -6.537279,
          -6.872873,
          -7.5183277,
          -2.5539942,
          -1.520457,
          -2.3773053,
          -1.8789062,
          3.2875743,
          1.5609673,
          4.313555,
          4.259655,
          2.9322708,
          5.409248,
          4.62414,
          6.0394945,
          3.521995,
          3.7663407,
          3.3427715,
          3.8712254,
          2.9723074,
          3.3119586,
          4.0996604,
          5.0921144,
          6.565444,
          2.8211777,
          3.393423,
          4.604424,
          2.7438588,
          6.4434347,
          4.9510336,
          5.0925574,
          6.8377857,
          2.0829036,
          6.308239,
          5.605615,
          3.9203217,
          6.4065905,
          6.124089,
          6.4389873,
          4.8250165,
          5.0626616,
          7.842995,
          7.770463,
          4.45031,
          4.37275,
          4.0125504,
          6.644761,
          4.7244573,
          5.6161222,
          -6.9907165,
          2.7985866,
          3.713351,
          6.0196075,
          -3.1158707,
          2.3381448,
          0.29363576,
          3.7436528,
          2.4895587,
          -0.629763,
          0.88343984,
          -2.294688,
          -2.1593244,
          -0.12648678,
          0.82775795,
          1.1689678,
          -1.8012084,
          -5.433042,
          1.1782652,
          0.6211282,
          -1.8836604,
          6.024058,
          0.51115197,
          2.6856177,
          1.8852636,
          5.394739,
          6.3793344,
          5.320744,
          6.4983788,
          7.624181,
          5.4631557,
          6.8376846,
          4.370929,
          5.5798755,
          5.479618,
          6.303323,
          4.4656005,
          6.2084455,
          0.067197114,
          -2.34276,
          -2.8506193,
          0.69585484,
          2.6145217,
          -2.2363238,
          5.9346156,
          -8.172531
         ],
         "y": [
          2.1581805,
          0.30608097,
          -0.21803848,
          1.0928988,
          -1.7273321,
          -0.570885,
          -2.8634737,
          -2.2017977,
          -0.6824336,
          0.9098511,
          3.915337,
          1.2746503,
          0.43817103,
          -1.1070759,
          -1.0755843,
          1.3312824,
          -0.71363586,
          -1.8415037,
          -1.3148917,
          1.5338521,
          -1.7389429,
          -1.3987436,
          -0.9154347,
          -0.5117767,
          -1.1963775,
          -0.51629615,
          -1.1851901,
          -1.6422656,
          -0.8647971,
          -1.2849026,
          -1.4692839,
          0.15154429,
          1.077508,
          -2.1408124,
          -0.5405888,
          -2.2716544,
          -1.651017,
          -0.97775966,
          -1.5022465,
          -1.1791953,
          -1.9622059,
          -1.6191868,
          -1.5863541,
          -1.6284848,
          -4.205793,
          -4.085513,
          -4.089749,
          -4.085159,
          -1.69901,
          -1.4219549,
          -2.4212358,
          -3.7756472,
          -3.2247984,
          -1.5810931,
          -2.7734094,
          -2.4074066,
          -1.7071701,
          -2.5164998,
          -4.4312286,
          -3.870733,
          -3.4430587,
          -2.7049544,
          -3.5236971,
          -4.0428004,
          -3.9746265,
          -3.477248,
          -4.3721156,
          -4.094505,
          -2.427801,
          -2.1891265,
          -3.0415807,
          -1.0589337,
          -1.2194476,
          -1.9562356,
          -1.0712605,
          -2.7190974,
          -3.0482306,
          -2.623853,
          -3.996975,
          -3.6274672,
          -3.5347507,
          -2.7463808,
          -1.7618283,
          -2.2831838,
          -1.3128008,
          -4.6562877,
          -0.8847573,
          -0.15972956,
          -0.30421543,
          1.0683824,
          1.670334,
          3.8971012,
          2.704101,
          0.96458197,
          3.5672145,
          1.5108689,
          4.514727,
          3.996559,
          1.5123485,
          2.3501494,
          2.8974926,
          1.756543,
          3.2647698,
          2.1936214,
          0.611641,
          2.2468789,
          1.6818222,
          2.1375723,
          4.998187,
          1.4968327,
          2.0406256,
          1.9040221,
          0.3457633,
          3.9790928,
          4.2361784,
          3.6819232,
          4.257066,
          1.9680537,
          3.916767,
          1.7289456,
          2.1982102,
          3.7038608,
          1.7453929,
          2.2346697,
          2.8871245,
          3.2728927,
          4.3122716,
          4.8641725,
          4.6736283,
          4.7760024,
          2.2588468,
          3.020831,
          -3.9578574,
          2.1147435,
          2.7851326,
          -1.695773,
          -1.4540209,
          1.090101,
          -2.8120217,
          0.04413765,
          -1.1380564,
          -1.9398643,
          -2.3714972,
          -3.9775605,
          -1.7174588,
          1.3680959,
          -0.9732459,
          -0.69366133,
          0.6240916,
          -2.3619857,
          -1.0625627,
          -0.7030165,
          0.2539754,
          -1.682697,
          -2.1189399,
          -1.7484916,
          1.3993044,
          3.1569006,
          1.8923378,
          3.579821,
          3.7322867,
          1.6991997,
          2.8338609,
          3.683963,
          4.4016333,
          1.8728484,
          4.370723,
          2.3069665,
          3.5331638,
          3.6575725,
          -2.7979445,
          -3.911166,
          -3.91562,
          -2.952979,
          -1.426288,
          0.58277446,
          1.1210406,
          -2.959605
         ],
         "z": [
          2.7849572,
          0.24112476,
          1.0198773,
          -1.2607392,
          -0.2765036,
          0.05938455,
          -1.711581,
          0.40147495,
          2.182547,
          -1.5606737,
          1.1116589,
          3.317388,
          3.4701233,
          1.1975726,
          1.836337,
          0.92609584,
          0.98941475,
          1.0307268,
          -4.520273,
          1.6952075,
          -4.3559666,
          0.99928993,
          2.5030007,
          -0.6356442,
          -0.8841691,
          0.45128575,
          0.67902106,
          2.1671128,
          -4.693841,
          -0.9385542,
          0.13290322,
          3.8495426,
          0.38614288,
          -1.3524482,
          1.5946217,
          -0.1299368,
          -0.36247915,
          0.09963004,
          -0.61898947,
          -0.63006675,
          0.41080958,
          -1.8518016,
          -4.3923535,
          -4.620948,
          -2.7237394,
          -4.390427,
          -4.349696,
          -2.4982288,
          -2.3928955,
          -1.9326193,
          -3.32995,
          -3.7682319,
          -1.6900641,
          -2.3568912,
          -4.396111,
          -4.200833,
          -4.6455913,
          -3.2284393,
          -3.5062375,
          -3.8317664,
          -1.8662772,
          -3.4003146,
          -5.0884995,
          -3.6981413,
          -3.0518768,
          -2.0275702,
          -3.3459632,
          -2.770777,
          -0.84686184,
          -1.0605974,
          -1.7841011,
          -1.930085,
          -2.0039225,
          -2.8077216,
          -1.9681969,
          -1.278361,
          -4.8000865,
          -3.0189383,
          -0.98307836,
          -2.2777226,
          -3.296378,
          -4.9479856,
          -5.2304134,
          -5.419352,
          -5.210193,
          -3.9007242,
          -0.96173733,
          -0.097978,
          -0.090207,
          -0.43769845,
          1.0081226,
          0.9977756,
          0.3974483,
          -0.8505647,
          0.7596239,
          0.3379968,
          -0.8924407,
          -0.07660118,
          0.50677437,
          -0.88675827,
          0.21192844,
          1.0976499,
          0.062564686,
          -0.29219016,
          -0.79682064,
          3.4090092,
          2.102671,
          3.362638,
          0.9800784,
          0.7485726,
          2.387097,
          2.6450572,
          -0.2815478,
          -1.3262624,
          1.65533,
          0.90374994,
          0.9087371,
          -0.24001057,
          1.6873219,
          -0.21280783,
          0.8744778,
          -0.4746192,
          -0.87756777,
          -0.6520532,
          -0.4955199,
          -0.10724609,
          0.84322566,
          0.20374613,
          0.26886463,
          0.5422484,
          2.9099228,
          1.5933566,
          -4.9462013,
          3.1958153,
          3.1230328,
          2.1432526,
          -2.9182441,
          1.16207,
          0.71709037,
          3.0708346,
          1.2349766,
          -2.2604113,
          -1.8198241,
          -2.7119188,
          -2.5811644,
          1.5457793,
          -1.194861,
          -0.34544107,
          -0.5088256,
          -0.7426519,
          2.5093324,
          -0.7485435,
          -1.0460597,
          2.1435091,
          -0.76156,
          -1.0035608,
          -0.60565746,
          2.8025346,
          1.1043792,
          -0.53223675,
          0.34299868,
          0.3134792,
          -0.99191386,
          1.6429199,
          0.83786386,
          1.8712217,
          -0.6618491,
          2.016679,
          0.43557492,
          1.2949067,
          -2.843191,
          -2.6789968,
          -2.677357,
          -1.7729224,
          0.16164008,
          -1.778583,
          1.5114595,
          -3.1993873
         ]
        }
       ],
       "layout": {
        "height": 800,
        "legend": {
         "title": {
          "text": "Cluster"
         },
         "tracegroupgap": 0
        },
        "scene": {
         "domain": {
          "x": [
           0,
           1
          ],
          "y": [
           0,
           1
          ]
         },
         "xaxis": {
          "title": {
           "text": "0"
          }
         },
         "yaxis": {
          "title": {
           "text": "1"
          }
         },
         "zaxis": {
          "title": {
           "text": "2"
          }
         }
        },
        "template": {
         "data": {
          "bar": [
           {
            "error_x": {
             "color": "#2a3f5f"
            },
            "error_y": {
             "color": "#2a3f5f"
            },
            "marker": {
             "line": {
              "color": "#E5ECF6",
              "width": 0.5
             },
             "pattern": {
              "fillmode": "overlay",
              "size": 10,
              "solidity": 0.2
             }
            },
            "type": "bar"
           }
          ],
          "barpolar": [
           {
            "marker": {
             "line": {
              "color": "#E5ECF6",
              "width": 0.5
             },
             "pattern": {
              "fillmode": "overlay",
              "size": 10,
              "solidity": 0.2
             }
            },
            "type": "barpolar"
           }
          ],
          "carpet": [
           {
            "aaxis": {
             "endlinecolor": "#2a3f5f",
             "gridcolor": "white",
             "linecolor": "white",
             "minorgridcolor": "white",
             "startlinecolor": "#2a3f5f"
            },
            "baxis": {
             "endlinecolor": "#2a3f5f",
             "gridcolor": "white",
             "linecolor": "white",
             "minorgridcolor": "white",
             "startlinecolor": "#2a3f5f"
            },
            "type": "carpet"
           }
          ],
          "choropleth": [
           {
            "colorbar": {
             "outlinewidth": 0,
             "ticks": ""
            },
            "type": "choropleth"
           }
          ],
          "contour": [
           {
            "colorbar": {
             "outlinewidth": 0,
             "ticks": ""
            },
            "colorscale": [
             [
              0,
              "#0d0887"
             ],
             [
              0.1111111111111111,
              "#46039f"
             ],
             [
              0.2222222222222222,
              "#7201a8"
             ],
             [
              0.3333333333333333,
              "#9c179e"
             ],
             [
              0.4444444444444444,
              "#bd3786"
             ],
             [
              0.5555555555555556,
              "#d8576b"
             ],
             [
              0.6666666666666666,
              "#ed7953"
             ],
             [
              0.7777777777777778,
              "#fb9f3a"
             ],
             [
              0.8888888888888888,
              "#fdca26"
             ],
             [
              1,
              "#f0f921"
             ]
            ],
            "type": "contour"
           }
          ],
          "contourcarpet": [
           {
            "colorbar": {
             "outlinewidth": 0,
             "ticks": ""
            },
            "type": "contourcarpet"
           }
          ],
          "heatmap": [
           {
            "colorbar": {
             "outlinewidth": 0,
             "ticks": ""
            },
            "colorscale": [
             [
              0,
              "#0d0887"
             ],
             [
              0.1111111111111111,
              "#46039f"
             ],
             [
              0.2222222222222222,
              "#7201a8"
             ],
             [
              0.3333333333333333,
              "#9c179e"
             ],
             [
              0.4444444444444444,
              "#bd3786"
             ],
             [
              0.5555555555555556,
              "#d8576b"
             ],
             [
              0.6666666666666666,
              "#ed7953"
             ],
             [
              0.7777777777777778,
              "#fb9f3a"
             ],
             [
              0.8888888888888888,
              "#fdca26"
             ],
             [
              1,
              "#f0f921"
             ]
            ],
            "type": "heatmap"
           }
          ],
          "heatmapgl": [
           {
            "colorbar": {
             "outlinewidth": 0,
             "ticks": ""
            },
            "colorscale": [
             [
              0,
              "#0d0887"
             ],
             [
              0.1111111111111111,
              "#46039f"
             ],
             [
              0.2222222222222222,
              "#7201a8"
             ],
             [
              0.3333333333333333,
              "#9c179e"
             ],
             [
              0.4444444444444444,
              "#bd3786"
             ],
             [
              0.5555555555555556,
              "#d8576b"
             ],
             [
              0.6666666666666666,
              "#ed7953"
             ],
             [
              0.7777777777777778,
              "#fb9f3a"
             ],
             [
              0.8888888888888888,
              "#fdca26"
             ],
             [
              1,
              "#f0f921"
             ]
            ],
            "type": "heatmapgl"
           }
          ],
          "histogram": [
           {
            "marker": {
             "pattern": {
              "fillmode": "overlay",
              "size": 10,
              "solidity": 0.2
             }
            },
            "type": "histogram"
           }
          ],
          "histogram2d": [
           {
            "colorbar": {
             "outlinewidth": 0,
             "ticks": ""
            },
            "colorscale": [
             [
              0,
              "#0d0887"
             ],
             [
              0.1111111111111111,
              "#46039f"
             ],
             [
              0.2222222222222222,
              "#7201a8"
             ],
             [
              0.3333333333333333,
              "#9c179e"
             ],
             [
              0.4444444444444444,
              "#bd3786"
             ],
             [
              0.5555555555555556,
              "#d8576b"
             ],
             [
              0.6666666666666666,
              "#ed7953"
             ],
             [
              0.7777777777777778,
              "#fb9f3a"
             ],
             [
              0.8888888888888888,
              "#fdca26"
             ],
             [
              1,
              "#f0f921"
             ]
            ],
            "type": "histogram2d"
           }
          ],
          "histogram2dcontour": [
           {
            "colorbar": {
             "outlinewidth": 0,
             "ticks": ""
            },
            "colorscale": [
             [
              0,
              "#0d0887"
             ],
             [
              0.1111111111111111,
              "#46039f"
             ],
             [
              0.2222222222222222,
              "#7201a8"
             ],
             [
              0.3333333333333333,
              "#9c179e"
             ],
             [
              0.4444444444444444,
              "#bd3786"
             ],
             [
              0.5555555555555556,
              "#d8576b"
             ],
             [
              0.6666666666666666,
              "#ed7953"
             ],
             [
              0.7777777777777778,
              "#fb9f3a"
             ],
             [
              0.8888888888888888,
              "#fdca26"
             ],
             [
              1,
              "#f0f921"
             ]
            ],
            "type": "histogram2dcontour"
           }
          ],
          "mesh3d": [
           {
            "colorbar": {
             "outlinewidth": 0,
             "ticks": ""
            },
            "type": "mesh3d"
           }
          ],
          "parcoords": [
           {
            "line": {
             "colorbar": {
              "outlinewidth": 0,
              "ticks": ""
             }
            },
            "type": "parcoords"
           }
          ],
          "pie": [
           {
            "automargin": true,
            "type": "pie"
           }
          ],
          "scatter": [
           {
            "fillpattern": {
             "fillmode": "overlay",
             "size": 10,
             "solidity": 0.2
            },
            "type": "scatter"
           }
          ],
          "scatter3d": [
           {
            "line": {
             "colorbar": {
              "outlinewidth": 0,
              "ticks": ""
             }
            },
            "marker": {
             "colorbar": {
              "outlinewidth": 0,
              "ticks": ""
             }
            },
            "type": "scatter3d"
           }
          ],
          "scattercarpet": [
           {
            "marker": {
             "colorbar": {
              "outlinewidth": 0,
              "ticks": ""
             }
            },
            "type": "scattercarpet"
           }
          ],
          "scattergeo": [
           {
            "marker": {
             "colorbar": {
              "outlinewidth": 0,
              "ticks": ""
             }
            },
            "type": "scattergeo"
           }
          ],
          "scattergl": [
           {
            "marker": {
             "colorbar": {
              "outlinewidth": 0,
              "ticks": ""
             }
            },
            "type": "scattergl"
           }
          ],
          "scattermapbox": [
           {
            "marker": {
             "colorbar": {
              "outlinewidth": 0,
              "ticks": ""
             }
            },
            "type": "scattermapbox"
           }
          ],
          "scatterpolar": [
           {
            "marker": {
             "colorbar": {
              "outlinewidth": 0,
              "ticks": ""
             }
            },
            "type": "scatterpolar"
           }
          ],
          "scatterpolargl": [
           {
            "marker": {
             "colorbar": {
              "outlinewidth": 0,
              "ticks": ""
             }
            },
            "type": "scatterpolargl"
           }
          ],
          "scatterternary": [
           {
            "marker": {
             "colorbar": {
              "outlinewidth": 0,
              "ticks": ""
             }
            },
            "type": "scatterternary"
           }
          ],
          "surface": [
           {
            "colorbar": {
             "outlinewidth": 0,
             "ticks": ""
            },
            "colorscale": [
             [
              0,
              "#0d0887"
             ],
             [
              0.1111111111111111,
              "#46039f"
             ],
             [
              0.2222222222222222,
              "#7201a8"
             ],
             [
              0.3333333333333333,
              "#9c179e"
             ],
             [
              0.4444444444444444,
              "#bd3786"
             ],
             [
              0.5555555555555556,
              "#d8576b"
             ],
             [
              0.6666666666666666,
              "#ed7953"
             ],
             [
              0.7777777777777778,
              "#fb9f3a"
             ],
             [
              0.8888888888888888,
              "#fdca26"
             ],
             [
              1,
              "#f0f921"
             ]
            ],
            "type": "surface"
           }
          ],
          "table": [
           {
            "cells": {
             "fill": {
              "color": "#EBF0F8"
             },
             "line": {
              "color": "white"
             }
            },
            "header": {
             "fill": {
              "color": "#C8D4E3"
             },
             "line": {
              "color": "white"
             }
            },
            "type": "table"
           }
          ]
         },
         "layout": {
          "annotationdefaults": {
           "arrowcolor": "#2a3f5f",
           "arrowhead": 0,
           "arrowwidth": 1
          },
          "autotypenumbers": "strict",
          "coloraxis": {
           "colorbar": {
            "outlinewidth": 0,
            "ticks": ""
           }
          },
          "colorscale": {
           "diverging": [
            [
             0,
             "#8e0152"
            ],
            [
             0.1,
             "#c51b7d"
            ],
            [
             0.2,
             "#de77ae"
            ],
            [
             0.3,
             "#f1b6da"
            ],
            [
             0.4,
             "#fde0ef"
            ],
            [
             0.5,
             "#f7f7f7"
            ],
            [
             0.6,
             "#e6f5d0"
            ],
            [
             0.7,
             "#b8e186"
            ],
            [
             0.8,
             "#7fbc41"
            ],
            [
             0.9,
             "#4d9221"
            ],
            [
             1,
             "#276419"
            ]
           ],
           "sequential": [
            [
             0,
             "#0d0887"
            ],
            [
             0.1111111111111111,
             "#46039f"
            ],
            [
             0.2222222222222222,
             "#7201a8"
            ],
            [
             0.3333333333333333,
             "#9c179e"
            ],
            [
             0.4444444444444444,
             "#bd3786"
            ],
            [
             0.5555555555555556,
             "#d8576b"
            ],
            [
             0.6666666666666666,
             "#ed7953"
            ],
            [
             0.7777777777777778,
             "#fb9f3a"
            ],
            [
             0.8888888888888888,
             "#fdca26"
            ],
            [
             1,
             "#f0f921"
            ]
           ],
           "sequentialminus": [
            [
             0,
             "#0d0887"
            ],
            [
             0.1111111111111111,
             "#46039f"
            ],
            [
             0.2222222222222222,
             "#7201a8"
            ],
            [
             0.3333333333333333,
             "#9c179e"
            ],
            [
             0.4444444444444444,
             "#bd3786"
            ],
            [
             0.5555555555555556,
             "#d8576b"
            ],
            [
             0.6666666666666666,
             "#ed7953"
            ],
            [
             0.7777777777777778,
             "#fb9f3a"
            ],
            [
             0.8888888888888888,
             "#fdca26"
            ],
            [
             1,
             "#f0f921"
            ]
           ]
          },
          "colorway": [
           "#636efa",
           "#EF553B",
           "#00cc96",
           "#ab63fa",
           "#FFA15A",
           "#19d3f3",
           "#FF6692",
           "#B6E880",
           "#FF97FF",
           "#FECB52"
          ],
          "font": {
           "color": "#2a3f5f"
          },
          "geo": {
           "bgcolor": "white",
           "lakecolor": "white",
           "landcolor": "#E5ECF6",
           "showlakes": true,
           "showland": true,
           "subunitcolor": "white"
          },
          "hoverlabel": {
           "align": "left"
          },
          "hovermode": "closest",
          "mapbox": {
           "style": "light"
          },
          "paper_bgcolor": "white",
          "plot_bgcolor": "#E5ECF6",
          "polar": {
           "angularaxis": {
            "gridcolor": "white",
            "linecolor": "white",
            "ticks": ""
           },
           "bgcolor": "#E5ECF6",
           "radialaxis": {
            "gridcolor": "white",
            "linecolor": "white",
            "ticks": ""
           }
          },
          "scene": {
           "xaxis": {
            "backgroundcolor": "#E5ECF6",
            "gridcolor": "white",
            "gridwidth": 2,
            "linecolor": "white",
            "showbackground": true,
            "ticks": "",
            "zerolinecolor": "white"
           },
           "yaxis": {
            "backgroundcolor": "#E5ECF6",
            "gridcolor": "white",
            "gridwidth": 2,
            "linecolor": "white",
            "showbackground": true,
            "ticks": "",
            "zerolinecolor": "white"
           },
           "zaxis": {
            "backgroundcolor": "#E5ECF6",
            "gridcolor": "white",
            "gridwidth": 2,
            "linecolor": "white",
            "showbackground": true,
            "ticks": "",
            "zerolinecolor": "white"
           }
          },
          "shapedefaults": {
           "line": {
            "color": "#2a3f5f"
           }
          },
          "ternary": {
           "aaxis": {
            "gridcolor": "white",
            "linecolor": "white",
            "ticks": ""
           },
           "baxis": {
            "gridcolor": "white",
            "linecolor": "white",
            "ticks": ""
           },
           "bgcolor": "#E5ECF6",
           "caxis": {
            "gridcolor": "white",
            "linecolor": "white",
            "ticks": ""
           }
          },
          "title": {
           "x": 0.05
          },
          "xaxis": {
           "automargin": true,
           "gridcolor": "white",
           "linecolor": "white",
           "ticks": "",
           "title": {
            "standoff": 15
           },
           "zerolinecolor": "white",
           "zerolinewidth": 2
          },
          "yaxis": {
           "automargin": true,
           "gridcolor": "white",
           "linecolor": "white",
           "ticks": "",
           "title": {
            "standoff": 15
           },
           "zerolinecolor": "white",
           "zerolinewidth": 2
          }
         }
        },
        "title": {
         "text": "3d TSNE Plot for Clusters"
        },
        "width": 900
       }
      }
     },
     "metadata": {},
     "output_type": "display_data"
    }
   ],
   "source": [
    "plot_model(dbscan, plot = 'cluster')\n",
    "plot_model(dbscan, plot = 'tsne')"
   ]
  },
  {
   "cell_type": "code",
   "execution_count": null,
   "metadata": {},
   "outputs": [],
   "source": []
  }
 ],
 "metadata": {
  "kernelspec": {
   "display_name": "Python 3",
   "language": "python",
   "name": "python3"
  },
  "language_info": {
   "codemirror_mode": {
    "name": "ipython",
    "version": 3
   },
   "file_extension": ".py",
   "mimetype": "text/x-python",
   "name": "python",
   "nbconvert_exporter": "python",
   "pygments_lexer": "ipython3",
   "version": "3.10.11"
  },
  "orig_nbformat": 4
 },
 "nbformat": 4,
 "nbformat_minor": 2
}
